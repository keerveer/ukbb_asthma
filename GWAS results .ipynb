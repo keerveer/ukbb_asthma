{
 "cells": [
  {
   "cell_type": "code",
   "execution_count": 6,
   "metadata": {
    "collapsed": false
   },
   "outputs": [
    {
     "data": {
      "text/html": [],
      "text/latex": [],
      "text/markdown": [],
      "text/plain": [
       "<0 x 0 matrix>"
      ]
     },
     "metadata": {},
     "output_type": "display_data"
    },
    {
     "ename": "ERROR",
     "evalue": "Error in gtxanalyses(description_contains = c(\"gtex v7\")): could not find function \"gtxanalyses\"\n",
     "output_type": "error",
     "traceback": [
      "Error in gtxanalyses(description_contains = c(\"gtex v7\")): could not find function \"gtxanalyses\"\nTraceback:\n"
     ]
    }
   ],
   "source": [
    "library(odbc)\n",
    "library(gtx)\n",
    "suppressPackageStartupMessages(library(gtx))\n",
    "options(gtx.dbConnection = dbConnect(odbc(), dsn = 'impaladsn'))\n",
    "dbGetQuery(getOption('gtx.dbConnection'), 'USE gene_gwas;')\n",
    "#gtx:::gtxcache() # massively speeds up finding gene labels in gwas()\n",
    "gtexa <- gtxanalyses(description_contains=c('gtex v7'))$analysis  \n",
    "options(repr.plot.width=8, repr.plot.height=5) # standardises plots to be rectangular in shape"
   ]
  },
  {
   "cell_type": "code",
   "execution_count": null,
   "metadata": {
    "collapsed": true
   },
   "outputs": [],
   "source": [
    "source('/data01/anaconda/projects/kbs14104/ukb_sprint/sandbox/team_float/examples/ukb_sprint_examples/ukbiobank_sprintlibs.R')"
   ]
  },
  {
   "cell_type": "code",
   "execution_count": 2,
   "metadata": {
    "collapsed": true
   },
   "outputs": [],
   "source": [
    "my_traitA = \"GSK500KV3_AsthmaClusterA\"\n",
    "my_traitB = \"GSK500KV3_AsthmaClusterB\"\n",
    "my_traitAvB = \"GSK500KV3_AsthmaClusterAvsB\""
   ]
  },
  {
   "cell_type": "code",
   "execution_count": 3,
   "metadata": {
    "collapsed": false
   },
   "outputs": [
    {
     "ename": "ERROR",
     "evalue": "Error in gwas(my_traitA): could not find function \"gwas\"\n",
     "output_type": "error",
     "traceback": [
      "Error in gwas(my_traitA): could not find function \"gwas\"\nTraceback:\n"
     ]
    }
   ],
   "source": [
    "gwas_A <- gwas(my_traitA)"
   ]
  },
  {
   "cell_type": "code",
   "execution_count": null,
   "metadata": {
    "collapsed": true
   },
   "outputs": [],
   "source": [
    "regionplot(my_traitA, chrom = \"1\", pos = 10441978)"
   ]
  },
  {
   "cell_type": "code",
   "execution_count": null,
   "metadata": {
    "collapsed": true
   },
   "outputs": [],
   "source": [
    "my_gwas_sorted = my_gwas %>% \n",
    "    arrange(pval_index) \n",
    "my_gwas_sorted %>% \n",
    "    head(n = 5)"
   ]
  }
 ],
 "metadata": {
  "kernelspec": {
   "display_name": "R [conda env:anaconda-default]",
   "language": "R",
   "name": "conda-env-anaconda-default-r"
  },
  "language_info": {
   "codemirror_mode": "r",
   "file_extension": ".r",
   "mimetype": "text/x-r-source",
   "name": "R",
   "pygments_lexer": "r",
   "version": "3.4.1"
  }
 },
 "nbformat": 4,
 "nbformat_minor": 2
}
