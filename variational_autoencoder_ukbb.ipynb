{
 "cells": [
  {
   "cell_type": "code",
   "execution_count": 2,
   "metadata": {
    "collapsed": false
   },
   "outputs": [],
   "source": [
    "import tensorflow as tf\n",
    "import numpy as np\n",
    "import matplotlib.pyplot as plt\n",
    "from scipy.stats import norm\n",
    "\n",
    "from keras.layers import Input, Dense, Lambda, Layer, Dropout\n",
    "from keras.models import Model\n",
    "from keras import backend as K\n",
    "from keras import metrics\n",
    "import pandas as pd\n",
    "#import tensorflow as tf\n",
    "import keras"
   ]
  },
  {
   "cell_type": "code",
   "execution_count": 3,
   "metadata": {
    "collapsed": true
   },
   "outputs": [],
   "source": [
    "import os\n",
    "import matplotlib.pyplot as plt\n",
    "plt.style.use('ggplot')\n",
    "%matplotlib inline\n",
    "#import pydot\n",
    "#import graphviz\n",
    "from keras.utils import plot_model\n",
    "from IPython.display import SVG\n",
    "from keras.utils.vis_utils import model_to_dot"
   ]
  },
  {
   "cell_type": "code",
   "execution_count": 4,
   "metadata": {
    "collapsed": true
   },
   "outputs": [],
   "source": [
    "from sklearn import preprocessing\n",
    "from sklearn.model_selection import train_test_split\n",
    "from sklearn import manifold"
   ]
  },
  {
   "cell_type": "code",
   "execution_count": 5,
   "metadata": {
    "collapsed": false
   },
   "outputs": [
    {
     "name": "stderr",
     "output_type": "stream",
     "text": [
      "/opt/wakari/anaconda/envs/default/lib/python2.7/site-packages/IPython/core/interactiveshell.py:2714: DtypeWarning: Columns (3,2931,2943) have mixed types. Specify dtype option on import or set low_memory=False.\n",
      "  interactivity=interactivity, compiler=compiler, result=result)\n"
     ]
    }
   ],
   "source": [
    "asthma_df=pd.read_csv(\"ukbb_asthma_sample_5k.csv\",sep='\\t')"
   ]
  },
  {
   "cell_type": "code",
   "execution_count": 7,
   "metadata": {
    "collapsed": true
   },
   "outputs": [],
   "source": [
    "# Select columns to filter on\n",
    "cols = [col for col in asthma_df.columns if 'HES_p' not in col and 'PC' not in col]\n",
    "asthma_df=asthma_df[cols].drop('Unnamed: 0',axis=1)"
   ]
  },
  {
   "cell_type": "code",
   "execution_count": 8,
   "metadata": {
    "collapsed": true
   },
   "outputs": [],
   "source": [
    "#select only 'QUANTITY' fields\n",
    "asthma_df_quant=asthma_df.loc[:, asthma_df.columns.str.contains('QUANT|age|BMI')].fillna(0.0)\n",
    "#select only fields with 10 or more unique values\n",
    "for col in asthma_df_quant.columns:\n",
    "    if len(asthma_df_quant[col].unique()) < 20 :\n",
    "        asthma_df_quant.drop(col,inplace=True,axis=1)\n",
    "\n",
    "        \n",
    "#select only 'QUANTITY' and \"CATEGORY\" fields\n",
    "asthma_df_quant_cat=asthma_df.loc[:, asthma_df.columns.str.contains('QUANT|age|BMI|CAT|sex')].fillna(0.0)\n",
    "asthma_df_quant_cat=asthma_df_quant_cat.drop(columns=['f_22182_0_0_f_CAT_HLA_imputation_values_and_quality'])"
   ]
  },
  {
   "cell_type": "code",
   "execution_count": 17,
   "metadata": {
    "collapsed": false
   },
   "outputs": [],
   "source": [
    "#asthma_df_quant_cat['f_40019_0_p_D44_CAT_Neoplasm_of_uncertain_or_unknown_behaviour_of_endocrine_glands'].value_counts()"
   ]
  },
  {
   "cell_type": "code",
   "execution_count": 18,
   "metadata": {
    "collapsed": false
   },
   "outputs": [],
   "source": [
    "#asthma_df_quant_cat.loc[:,asthma_df_quant_cat.columns.str.contains('CAT')]"
   ]
  },
  {
   "cell_type": "code",
   "execution_count": 20,
   "metadata": {
    "collapsed": false
   },
   "outputs": [
    {
     "data": {
      "text/html": [
       "<div>\n",
       "<style scoped>\n",
       "    .dataframe tbody tr th:only-of-type {\n",
       "        vertical-align: middle;\n",
       "    }\n",
       "\n",
       "    .dataframe tbody tr th {\n",
       "        vertical-align: top;\n",
       "    }\n",
       "\n",
       "    .dataframe thead th {\n",
       "        text-align: right;\n",
       "    }\n",
       "</style>\n",
       "<table border=\"1\" class=\"dataframe\">\n",
       "  <thead>\n",
       "    <tr style=\"text-align: right;\">\n",
       "      <th></th>\n",
       "      <th>age</th>\n",
       "      <th>BMI</th>\n",
       "      <th>f_20006_0_0_f_QUANT_Interpolated_Year_when_cancer_first_diagnosed</th>\n",
       "      <th>f_20008_0_0_f_QUANT_Interpolated_Year_when_non_cancer_illness_first_diagnosed</th>\n",
       "      <th>f_20010_0_0_f_QUANT_Interpolated_Year_when_operation_took_place</th>\n",
       "      <th>f_1269_0_0_f_QUANT_Exposure_to_tobacco_smoke_at_home</th>\n",
       "      <th>f_1279_0_0_f_QUANT_Exposure_to_tobacco_smoke_outside_home</th>\n",
       "      <th>f_1807_0_0_f_QUANT_Father_s_age_at_death</th>\n",
       "      <th>f_2867_0_0_f_QUANT_Age_started_smoking_in_former_smokers</th>\n",
       "      <th>f_2966_0_0_f_QUANT_Age_high_blood_pressure_diagnosed</th>\n",
       "      <th>...</th>\n",
       "      <th>specialRequest_QUANT_number_of_hospitalizing_copd_exacerbation_caseOnly_includes_SPIROMETRY_NI_HES_residualizedRelated</th>\n",
       "      <th>specialRequest_QUANT_number_of_hospitalizing_copd_exacerbation_caseOnly_smokersOnly_includes_SPIROMETRY_NI_HES_residualizedRelated</th>\n",
       "      <th>specialRequest_QUANT_numCigarettes_residualizedRelated</th>\n",
       "      <th>specialRequest_QUANT_age_started_smoking_residualizedRelated</th>\n",
       "      <th>specialRequest_QUANT_age_stopped_smoking_residualizedRelated</th>\n",
       "      <th>specialRequest_QUANT_pack_years_residualizedRelated</th>\n",
       "      <th>specialRequest_QUANT_appendicular_lean_mass_residualizedRelated</th>\n",
       "      <th>specialRequest_ageSquared_QUANT_age_squared</th>\n",
       "      <th>specialRequest_QUANT_years_observed_in_primary_HES</th>\n",
       "      <th>specialRequest_QUANT_OA_HES_based_age_of_onset</th>\n",
       "    </tr>\n",
       "  </thead>\n",
       "  <tbody>\n",
       "    <tr>\n",
       "      <th>0</th>\n",
       "      <td>63</td>\n",
       "      <td>21.3476</td>\n",
       "      <td>2004.5</td>\n",
       "      <td>0.00</td>\n",
       "      <td>1980.5</td>\n",
       "      <td>0.0</td>\n",
       "      <td>0.0</td>\n",
       "      <td>60.0</td>\n",
       "      <td>0.0</td>\n",
       "      <td>0.0</td>\n",
       "      <td>...</td>\n",
       "      <td>0.0</td>\n",
       "      <td>0.0</td>\n",
       "      <td>0.0</td>\n",
       "      <td>0.0</td>\n",
       "      <td>0.0</td>\n",
       "      <td>0.0</td>\n",
       "      <td>0.000000</td>\n",
       "      <td>3969</td>\n",
       "      <td>0.134247</td>\n",
       "      <td>0.0</td>\n",
       "    </tr>\n",
       "    <tr>\n",
       "      <th>1</th>\n",
       "      <td>51</td>\n",
       "      <td>25.9862</td>\n",
       "      <td>0.0</td>\n",
       "      <td>2007.50</td>\n",
       "      <td>1965.5</td>\n",
       "      <td>0.0</td>\n",
       "      <td>1.0</td>\n",
       "      <td>0.0</td>\n",
       "      <td>0.0</td>\n",
       "      <td>0.0</td>\n",
       "      <td>...</td>\n",
       "      <td>0.0</td>\n",
       "      <td>0.0</td>\n",
       "      <td>0.0</td>\n",
       "      <td>0.0</td>\n",
       "      <td>0.0</td>\n",
       "      <td>0.0</td>\n",
       "      <td>0.000000</td>\n",
       "      <td>2601</td>\n",
       "      <td>0.002740</td>\n",
       "      <td>0.0</td>\n",
       "    </tr>\n",
       "    <tr>\n",
       "      <th>2</th>\n",
       "      <td>58</td>\n",
       "      <td>21.2239</td>\n",
       "      <td>0.0</td>\n",
       "      <td>2010.23</td>\n",
       "      <td>0.0</td>\n",
       "      <td>0.0</td>\n",
       "      <td>0.0</td>\n",
       "      <td>75.0</td>\n",
       "      <td>0.0</td>\n",
       "      <td>58.0</td>\n",
       "      <td>...</td>\n",
       "      <td>0.0</td>\n",
       "      <td>0.0</td>\n",
       "      <td>0.0</td>\n",
       "      <td>0.0</td>\n",
       "      <td>0.0</td>\n",
       "      <td>0.0</td>\n",
       "      <td>0.000000</td>\n",
       "      <td>3364</td>\n",
       "      <td>0.002740</td>\n",
       "      <td>0.0</td>\n",
       "    </tr>\n",
       "    <tr>\n",
       "      <th>3</th>\n",
       "      <td>69</td>\n",
       "      <td>27.0389</td>\n",
       "      <td>0.0</td>\n",
       "      <td>1970.88</td>\n",
       "      <td>0.0</td>\n",
       "      <td>0.0</td>\n",
       "      <td>0.0</td>\n",
       "      <td>59.0</td>\n",
       "      <td>0.0</td>\n",
       "      <td>30.0</td>\n",
       "      <td>...</td>\n",
       "      <td>0.0</td>\n",
       "      <td>0.0</td>\n",
       "      <td>0.0</td>\n",
       "      <td>0.0</td>\n",
       "      <td>0.0</td>\n",
       "      <td>0.0</td>\n",
       "      <td>0.000000</td>\n",
       "      <td>4761</td>\n",
       "      <td>0.002740</td>\n",
       "      <td>0.0</td>\n",
       "    </tr>\n",
       "    <tr>\n",
       "      <th>4</th>\n",
       "      <td>64</td>\n",
       "      <td>31.5993</td>\n",
       "      <td>0.0</td>\n",
       "      <td>1996.17</td>\n",
       "      <td>0.0</td>\n",
       "      <td>0.0</td>\n",
       "      <td>0.0</td>\n",
       "      <td>89.0</td>\n",
       "      <td>0.0</td>\n",
       "      <td>0.0</td>\n",
       "      <td>...</td>\n",
       "      <td>0.0</td>\n",
       "      <td>0.0</td>\n",
       "      <td>0.0</td>\n",
       "      <td>0.0</td>\n",
       "      <td>0.0</td>\n",
       "      <td>0.0</td>\n",
       "      <td>0.132985</td>\n",
       "      <td>4096</td>\n",
       "      <td>0.010959</td>\n",
       "      <td>0.0</td>\n",
       "    </tr>\n",
       "  </tbody>\n",
       "</table>\n",
       "<p>5 rows × 638 columns</p>\n",
       "</div>"
      ],
      "text/plain": [
       "   age      BMI  \\\n",
       "0   63  21.3476   \n",
       "1   51  25.9862   \n",
       "2   58  21.2239   \n",
       "3   69  27.0389   \n",
       "4   64  31.5993   \n",
       "\n",
       "   f_20006_0_0_f_QUANT_Interpolated_Year_when_cancer_first_diagnosed  \\\n",
       "0                                             2004.5                   \n",
       "1                                                0.0                   \n",
       "2                                                0.0                   \n",
       "3                                                0.0                   \n",
       "4                                                0.0                   \n",
       "\n",
       "   f_20008_0_0_f_QUANT_Interpolated_Year_when_non_cancer_illness_first_diagnosed  \\\n",
       "0                                               0.00                               \n",
       "1                                            2007.50                               \n",
       "2                                            2010.23                               \n",
       "3                                            1970.88                               \n",
       "4                                            1996.17                               \n",
       "\n",
       "   f_20010_0_0_f_QUANT_Interpolated_Year_when_operation_took_place  \\\n",
       "0                                             1980.5                 \n",
       "1                                             1965.5                 \n",
       "2                                                0.0                 \n",
       "3                                                0.0                 \n",
       "4                                                0.0                 \n",
       "\n",
       "   f_1269_0_0_f_QUANT_Exposure_to_tobacco_smoke_at_home  \\\n",
       "0                                                0.0      \n",
       "1                                                0.0      \n",
       "2                                                0.0      \n",
       "3                                                0.0      \n",
       "4                                                0.0      \n",
       "\n",
       "   f_1279_0_0_f_QUANT_Exposure_to_tobacco_smoke_outside_home  \\\n",
       "0                                                0.0           \n",
       "1                                                1.0           \n",
       "2                                                0.0           \n",
       "3                                                0.0           \n",
       "4                                                0.0           \n",
       "\n",
       "   f_1807_0_0_f_QUANT_Father_s_age_at_death  \\\n",
       "0                                      60.0   \n",
       "1                                       0.0   \n",
       "2                                      75.0   \n",
       "3                                      59.0   \n",
       "4                                      89.0   \n",
       "\n",
       "   f_2867_0_0_f_QUANT_Age_started_smoking_in_former_smokers  \\\n",
       "0                                                0.0          \n",
       "1                                                0.0          \n",
       "2                                                0.0          \n",
       "3                                                0.0          \n",
       "4                                                0.0          \n",
       "\n",
       "   f_2966_0_0_f_QUANT_Age_high_blood_pressure_diagnosed  \\\n",
       "0                                                0.0      \n",
       "1                                                0.0      \n",
       "2                                               58.0      \n",
       "3                                               30.0      \n",
       "4                                                0.0      \n",
       "\n",
       "                        ...                        \\\n",
       "0                       ...                         \n",
       "1                       ...                         \n",
       "2                       ...                         \n",
       "3                       ...                         \n",
       "4                       ...                         \n",
       "\n",
       "   specialRequest_QUANT_number_of_hospitalizing_copd_exacerbation_caseOnly_includes_SPIROMETRY_NI_HES_residualizedRelated  \\\n",
       "0                                                0.0                                                                        \n",
       "1                                                0.0                                                                        \n",
       "2                                                0.0                                                                        \n",
       "3                                                0.0                                                                        \n",
       "4                                                0.0                                                                        \n",
       "\n",
       "   specialRequest_QUANT_number_of_hospitalizing_copd_exacerbation_caseOnly_smokersOnly_includes_SPIROMETRY_NI_HES_residualizedRelated  \\\n",
       "0                                                0.0                                                                                    \n",
       "1                                                0.0                                                                                    \n",
       "2                                                0.0                                                                                    \n",
       "3                                                0.0                                                                                    \n",
       "4                                                0.0                                                                                    \n",
       "\n",
       "   specialRequest_QUANT_numCigarettes_residualizedRelated  \\\n",
       "0                                                0.0        \n",
       "1                                                0.0        \n",
       "2                                                0.0        \n",
       "3                                                0.0        \n",
       "4                                                0.0        \n",
       "\n",
       "   specialRequest_QUANT_age_started_smoking_residualizedRelated  \\\n",
       "0                                                0.0              \n",
       "1                                                0.0              \n",
       "2                                                0.0              \n",
       "3                                                0.0              \n",
       "4                                                0.0              \n",
       "\n",
       "   specialRequest_QUANT_age_stopped_smoking_residualizedRelated  \\\n",
       "0                                                0.0              \n",
       "1                                                0.0              \n",
       "2                                                0.0              \n",
       "3                                                0.0              \n",
       "4                                                0.0              \n",
       "\n",
       "   specialRequest_QUANT_pack_years_residualizedRelated  \\\n",
       "0                                                0.0     \n",
       "1                                                0.0     \n",
       "2                                                0.0     \n",
       "3                                                0.0     \n",
       "4                                                0.0     \n",
       "\n",
       "   specialRequest_QUANT_appendicular_lean_mass_residualizedRelated  \\\n",
       "0                                           0.000000                 \n",
       "1                                           0.000000                 \n",
       "2                                           0.000000                 \n",
       "3                                           0.000000                 \n",
       "4                                           0.132985                 \n",
       "\n",
       "   specialRequest_ageSquared_QUANT_age_squared  \\\n",
       "0                                         3969   \n",
       "1                                         2601   \n",
       "2                                         3364   \n",
       "3                                         4761   \n",
       "4                                         4096   \n",
       "\n",
       "   specialRequest_QUANT_years_observed_in_primary_HES  \\\n",
       "0                                           0.134247    \n",
       "1                                           0.002740    \n",
       "2                                           0.002740    \n",
       "3                                           0.002740    \n",
       "4                                           0.010959    \n",
       "\n",
       "   specialRequest_QUANT_OA_HES_based_age_of_onset  \n",
       "0                                             0.0  \n",
       "1                                             0.0  \n",
       "2                                             0.0  \n",
       "3                                             0.0  \n",
       "4                                             0.0  \n",
       "\n",
       "[5 rows x 638 columns]"
      ]
     },
     "execution_count": 20,
     "metadata": {},
     "output_type": "execute_result"
    }
   ],
   "source": [
    "asthma_df_quant.head()"
   ]
  },
  {
   "cell_type": "code",
   "execution_count": 73,
   "metadata": {
    "collapsed": false
   },
   "outputs": [],
   "source": [
    "#data=asthma_df_quant.transpose().values\n",
    "asthma_df_quant_scaled=asthma_df_quant\n",
    "scaler = preprocessing.MinMaxScaler(feature_range=(0.0, 1.0))\n",
    "asthma_df_quant_scaled[asthma_df_quant_scaled.columns]=scaler.fit_transform(asthma_df_quant[asthma_df_quant.columns])"
   ]
  },
  {
   "cell_type": "code",
   "execution_count": 86,
   "metadata": {
    "collapsed": false
   },
   "outputs": [
    {
     "data": {
      "text/plain": [
       "<matplotlib.collections.PathCollection at 0x7fd57146c210>"
      ]
     },
     "execution_count": 86,
     "metadata": {},
     "output_type": "execute_result"
    },
    {
     "data": {
      "image/png": "[encoded data removed]",
      "text/plain": [
       "<Figure size 432x288 with 1 Axes>"
      ]
     },
     "metadata": {},
     "output_type": "display_data"
    }
   ],
   "source": [
    "plt.scatter(asthma_df['age'].values,asthma_df_quant_scaled['age'].values)"
   ]
  },
  {
   "cell_type": "code",
   "execution_count": 89,
   "metadata": {
    "collapsed": false
   },
   "outputs": [],
   "source": [
    "data_minmax=asthma_df_quant_scaled.values"
   ]
  },
  {
   "cell_type": "code",
   "execution_count": 91,
   "metadata": {
    "collapsed": false
   },
   "outputs": [
    {
     "name": "stdout",
     "output_type": "stream",
     "text": [
      "(5000, 638)\n"
     ]
    }
   ],
   "source": [
    "print data_minmax.shape"
   ]
  },
  {
   "cell_type": "code",
   "execution_count": 92,
   "metadata": {
    "collapsed": true
   },
   "outputs": [],
   "source": [
    "batch_size = 50\n",
    "original_dim = data.shape[1]\n",
    "#latent_dim = 2\n",
    "latent_dim=12\n",
    "#intermediate_dim = 500\n",
    "epochs = 200\n",
    "epsilon_std = 1.0\n",
    "learning_rate=0.0005\n",
    "momentum=0.9"
   ]
  },
  {
   "cell_type": "code",
   "execution_count": 93,
   "metadata": {
    "collapsed": true
   },
   "outputs": [],
   "source": [
    "def sampling(args):\n",
    "    \n",
    "    import tensorflow as tf\n",
    "    epsilon_std=1.0\n",
    "    \n",
    "    z_mean, z_log_var = args\n",
    "    #epsilon = K.random_normal(shape=(batch_size, latent_dim), mean=0.,\n",
    "                             # stddev=epsilon_std)\n",
    "    epsilon = K.random_normal(shape=tf.shape(z_mean), mean=0.,\n",
    "                              stddev=epsilon_std)\n",
    "    return z_mean + K.exp(z_log_var / 2) * epsilon\n",
    "\n",
    "def vae_loss(x, x_decoded_mean):\n",
    "        xent_loss = original_dim * metrics.binary_crossentropy(x, x_decoded_mean)\n",
    "        kl_loss = - 0.5 * K.sum(1 + z_log_var_encoded - K.square(z_mean_encoded) - K.exp(z_log_var_encoded), axis=-1)\n",
    "        return K.mean(xent_loss + kl_loss)"
   ]
  },
  {
   "cell_type": "code",
   "execution_count": 94,
   "metadata": {
    "collapsed": true
   },
   "outputs": [],
   "source": [
    "#Encoder\n",
    "x = Input(shape=(original_dim, ))\n",
    "\n",
    "# Input layer is compressed into a mean and log variance vector of size `latent_dim`\n",
    "# Each layer is initialized with glorot uniform weights and each step (dense connections, batch norm,\n",
    "# and relu activation) are funneled separately\n",
    "# Each vector of length `latent_dim` are connected to the input tensor\n",
    "# Use dropout to help with training and overfitting\n",
    "# Use batch normalization for regularization\n",
    "\n",
    "dropout_frac=0.1\n",
    "dropout_mean=Dropout(dropout_frac, input_shape=(original_dim,))(x)\n",
    "dropout_var=Dropout(dropout_frac, input_shape=(original_dim,))(x)\n",
    "\n",
    "z_mean_dense_linear = Dense(latent_dim, kernel_initializer='glorot_uniform')(dropout_mean)\n",
    "z_mean_dense_batchnorm = keras.layers.BatchNormalization(momentum=momentum)(z_mean_dense_linear)\n",
    "z_mean_encoded = keras.layers.Activation('relu')(z_mean_dense_batchnorm)\n",
    "\n",
    "z_log_var_dense_linear = Dense(latent_dim, kernel_initializer='glorot_uniform')(dropout_var)\n",
    "z_log_var_dense_batchnorm = keras.layers.BatchNormalization(momentum=momentum)(z_log_var_dense_linear)\n",
    "z_log_var_encoded = keras.layers.Activation('relu')(z_log_var_dense_batchnorm)\n",
    "\n",
    "# return the encoded and randomly sampled z vector\n",
    "# Takes two keras layers as input to the custom sampling function layer with a `latent_dim` output\n",
    "z = Lambda(sampling, output_shape=(latent_dim, ))([z_mean_encoded, z_log_var_encoded])"
   ]
  },
  {
   "cell_type": "code",
   "execution_count": 95,
   "metadata": {
    "collapsed": true
   },
   "outputs": [],
   "source": [
    "#Decoder\n",
    "decoder = Dense(original_dim, kernel_initializer='glorot_uniform', activation='sigmoid')\n",
    "expression_reco = decoder(z)"
   ]
  },
  {
   "cell_type": "code",
   "execution_count": 96,
   "metadata": {
    "collapsed": true
   },
   "outputs": [],
   "source": [
    "np.random.seed(123)"
   ]
  },
  {
   "cell_type": "code",
   "execution_count": 97,
   "metadata": {
    "collapsed": false
   },
   "outputs": [
    {
     "name": "stdout",
     "output_type": "stream",
     "text": [
      "__________________________________________________________________________________________________\n",
      "Layer (type)                    Output Shape         Param #     Connected to                     \n",
      "==================================================================================================\n",
      "input_1 (InputLayer)            (None, 638)          0                                            \n",
      "__________________________________________________________________________________________________\n",
      "dropout_1 (Dropout)             (None, 638)          0           input_1[0][0]                    \n",
      "__________________________________________________________________________________________________\n",
      "dropout_2 (Dropout)             (None, 638)          0           input_1[0][0]                    \n",
      "__________________________________________________________________________________________________\n",
      "dense_1 (Dense)                 (None, 12)           7668        dropout_1[0][0]                  \n",
      "__________________________________________________________________________________________________\n",
      "dense_2 (Dense)                 (None, 12)           7668        dropout_2[0][0]                  \n",
      "__________________________________________________________________________________________________\n",
      "batch_normalization_1 (BatchNor (None, 12)           48          dense_1[0][0]                    \n",
      "__________________________________________________________________________________________________\n",
      "batch_normalization_2 (BatchNor (None, 12)           48          dense_2[0][0]                    \n",
      "__________________________________________________________________________________________________\n",
      "activation_1 (Activation)       (None, 12)           0           batch_normalization_1[0][0]      \n",
      "__________________________________________________________________________________________________\n",
      "activation_2 (Activation)       (None, 12)           0           batch_normalization_2[0][0]      \n",
      "__________________________________________________________________________________________________\n",
      "lambda_1 (Lambda)               (None, 12)           0           activation_1[0][0]               \n",
      "                                                                 activation_2[0][0]               \n",
      "__________________________________________________________________________________________________\n",
      "dense_3 (Dense)                 (None, 638)          8294        lambda_1[0][0]                   \n",
      "==================================================================================================\n",
      "Total params: 23,726\n",
      "Trainable params: 23,678\n",
      "Non-trainable params: 48\n",
      "__________________________________________________________________________________________________\n",
      "None\n"
     ]
    }
   ],
   "source": [
    "adam = keras.optimizers.Adam(lr=learning_rate)\n",
    "\n",
    "#vae_layer = CustomVariationalLayer()([x, expression_reconstruct])\n",
    "#vae = Model(x, vae_layer)\n",
    "vae = Model(x, expression_reco)\n",
    "#RMS prop seems to be the most stable optimizer for this config\n",
    "vae.compile(optimizer=\"rmsprop\", loss=vae_loss)\n",
    "#vae.compile(optimizer=adam, loss=vae_loss)\n",
    "\n",
    "print vae.summary()"
   ]
  },
  {
   "cell_type": "code",
   "execution_count": 99,
   "metadata": {
    "collapsed": false
   },
   "outputs": [],
   "source": [
    "import time\n",
    "start = time.clock()\n",
    "data_split=0.2\n",
    "data_train, data_test = train_test_split(data_minmax, test_size=data_split)\n",
    "tbCallBack = keras.callbacks.TensorBoard(log_dir='./Graph_AN_Variational', histogram_freq=0, write_graph=True, write_images=True)\n",
    "earlystop = keras.callbacks.EarlyStopping(monitor='loss', min_delta=0.0001, patience=5, verbose=1, mode='auto')\n",
    "callbacks_list = [tbCallBack,earlystop]"
   ]
  },
  {
   "cell_type": "code",
   "execution_count": 100,
   "metadata": {
    "collapsed": false
   },
   "outputs": [
    {
     "name": "stdout",
     "output_type": "stream",
     "text": [
      "Train on 3200 samples, validate on 800 samples\n",
      "Epoch 1/200\n",
      "3200/3200 [==============================] - 1s 228us/step - loss: 433.3987 - val_loss: 412.9438\n",
      "Epoch 2/200\n",
      "3200/3200 [==============================] - 0s 126us/step - loss: 403.9192 - val_loss: 384.5409\n",
      "Epoch 3/200\n",
      "3200/3200 [==============================] - 0s 131us/step - loss: 381.5680 - val_loss: 367.1635\n",
      "Epoch 4/200\n",
      "3200/3200 [==============================] - 0s 134us/step - loss: 364.4987 - val_loss: 355.5708\n",
      "Epoch 5/200\n",
      "3200/3200 [==============================] - 0s 135us/step - loss: 353.9066 - val_loss: 346.2848\n",
      "Epoch 6/200\n",
      "3200/3200 [==============================] - 0s 141us/step - loss: 347.1063 - val_loss: 343.9981\n",
      "Epoch 7/200\n",
      "3200/3200 [==============================] - 1s 215us/step - loss: 343.8761 - val_loss: 340.7625\n",
      "Epoch 8/200\n",
      "3200/3200 [==============================] - 1s 187us/step - loss: 341.6021 - val_loss: 340.1570\n",
      "Epoch 9/200\n",
      "3200/3200 [==============================] - 0s 130us/step - loss: 340.9425 - val_loss: 339.4549\n",
      "Epoch 10/200\n",
      "3200/3200 [==============================] - 0s 140us/step - loss: 339.9571 - val_loss: 338.5970\n",
      "Epoch 11/200\n",
      "3200/3200 [==============================] - 0s 132us/step - loss: 339.5994 - val_loss: 337.8890\n",
      "Epoch 12/200\n",
      "3200/3200 [==============================] - 0s 136us/step - loss: 338.6870 - val_loss: 337.7622\n",
      "Epoch 13/200\n",
      "3200/3200 [==============================] - 0s 141us/step - loss: 338.7596 - val_loss: 337.9452\n",
      "Epoch 14/200\n",
      "3200/3200 [==============================] - 0s 130us/step - loss: 338.3228 - val_loss: 337.0286\n",
      "Epoch 15/200\n",
      "3200/3200 [==============================] - 0s 131us/step - loss: 338.1320 - val_loss: 337.2338\n",
      "Epoch 16/200\n",
      "3200/3200 [==============================] - 0s 140us/step - loss: 337.6602 - val_loss: 336.9779\n",
      "Epoch 17/200\n",
      "3200/3200 [==============================] - 0s 136us/step - loss: 337.6262 - val_loss: 336.3813\n",
      "Epoch 18/200\n",
      "3200/3200 [==============================] - 0s 135us/step - loss: 337.5405 - val_loss: 336.0552\n",
      "Epoch 19/200\n",
      "3200/3200 [==============================] - 0s 139us/step - loss: 337.0055 - val_loss: 336.4154\n",
      "Epoch 20/200\n",
      "3200/3200 [==============================] - 0s 147us/step - loss: 336.9888 - val_loss: 336.7719\n",
      "Epoch 21/200\n",
      "3200/3200 [==============================] - 0s 147us/step - loss: 336.6019 - val_loss: 336.1969\n",
      "Epoch 22/200\n",
      "3200/3200 [==============================] - 0s 135us/step - loss: 336.9548 - val_loss: 335.6005\n",
      "Epoch 23/200\n",
      "3200/3200 [==============================] - 0s 142us/step - loss: 336.6377 - val_loss: 335.2109\n",
      "Epoch 24/200\n",
      "3200/3200 [==============================] - 0s 129us/step - loss: 336.5824 - val_loss: 336.0532\n",
      "Epoch 25/200\n",
      "3200/3200 [==============================] - 0s 138us/step - loss: 336.2525 - val_loss: 335.7146\n",
      "Epoch 26/200\n",
      "3200/3200 [==============================] - 0s 133us/step - loss: 336.1169 - val_loss: 335.9279\n",
      "Epoch 27/200\n",
      "3200/3200 [==============================] - 0s 134us/step - loss: 335.9972 - val_loss: 335.6663\n",
      "Epoch 28/200\n",
      "3200/3200 [==============================] - 0s 137us/step - loss: 336.1159 - val_loss: 336.7820\n",
      "Epoch 29/200\n",
      "3200/3200 [==============================] - 1s 165us/step - loss: 336.0305 - val_loss: 335.3935\n",
      "Epoch 30/200\n",
      "3200/3200 [==============================] - 0s 143us/step - loss: 335.7204 - val_loss: 335.5568\n",
      "Epoch 31/200\n",
      "3200/3200 [==============================] - 0s 130us/step - loss: 335.8354 - val_loss: 336.5758\n",
      "Epoch 32/200\n",
      "3200/3200 [==============================] - 0s 142us/step - loss: 335.6236 - val_loss: 335.1047\n",
      "Epoch 33/200\n",
      "3200/3200 [==============================] - 0s 139us/step - loss: 336.0668 - val_loss: 335.0433\n",
      "Epoch 34/200\n",
      "3200/3200 [==============================] - 0s 132us/step - loss: 335.5491 - val_loss: 335.0267\n",
      "Epoch 35/200\n",
      "3200/3200 [==============================] - 0s 137us/step - loss: 335.5373 - val_loss: 334.5763\n",
      "Epoch 36/200\n",
      "3200/3200 [==============================] - 0s 141us/step - loss: 335.4429 - val_loss: 334.3880\n",
      "Epoch 37/200\n",
      "3200/3200 [==============================] - 0s 135us/step - loss: 335.6092 - val_loss: 335.3000\n",
      "Epoch 38/200\n",
      "3200/3200 [==============================] - 0s 136us/step - loss: 335.5210 - val_loss: 334.8898\n",
      "Epoch 39/200\n",
      "3200/3200 [==============================] - 0s 130us/step - loss: 335.1994 - val_loss: 334.1404\n",
      "Epoch 40/200\n",
      "3200/3200 [==============================] - 0s 135us/step - loss: 335.0057 - val_loss: 335.0195\n",
      "Epoch 41/200\n",
      "3200/3200 [==============================] - 0s 137us/step - loss: 335.0215 - val_loss: 334.7983\n",
      "Epoch 42/200\n",
      "3200/3200 [==============================] - 0s 140us/step - loss: 335.3975 - val_loss: 335.0619\n",
      "Epoch 43/200\n",
      "3200/3200 [==============================] - 0s 130us/step - loss: 335.2182 - val_loss: 334.6054\n",
      "Epoch 44/200\n",
      "3200/3200 [==============================] - 0s 139us/step - loss: 334.9120 - val_loss: 335.0387\n",
      "Epoch 45/200\n",
      "3200/3200 [==============================] - 0s 137us/step - loss: 334.8196 - val_loss: 334.6822\n",
      "Epoch 46/200\n",
      "3200/3200 [==============================] - 0s 135us/step - loss: 335.0931 - val_loss: 333.8532\n",
      "Epoch 47/200\n",
      "3200/3200 [==============================] - 0s 137us/step - loss: 335.0813 - val_loss: 335.1864\n",
      "Epoch 48/200\n",
      "3200/3200 [==============================] - 0s 135us/step - loss: 334.9783 - val_loss: 334.6629\n",
      "Epoch 49/200\n",
      "3200/3200 [==============================] - 0s 132us/step - loss: 334.9155 - val_loss: 335.0168\n",
      "Epoch 50/200\n",
      "3200/3200 [==============================] - 0s 135us/step - loss: 334.6635 - val_loss: 335.0479\n",
      "Epoch 51/200\n",
      "3200/3200 [==============================] - 0s 130us/step - loss: 334.7250 - val_loss: 335.4248\n",
      "Epoch 52/200\n",
      "3200/3200 [==============================] - 0s 147us/step - loss: 334.3859 - val_loss: 334.4000\n",
      "Epoch 53/200\n",
      "3200/3200 [==============================] - 0s 136us/step - loss: 334.7946 - val_loss: 334.5679\n",
      "Epoch 54/200\n",
      "3200/3200 [==============================] - 0s 140us/step - loss: 334.4332 - val_loss: 334.6635\n",
      "Epoch 55/200\n",
      "3200/3200 [==============================] - 0s 139us/step - loss: 334.6181 - val_loss: 334.6957\n",
      "Epoch 56/200\n",
      "3200/3200 [==============================] - 0s 141us/step - loss: 334.5283 - val_loss: 335.2469\n",
      "Epoch 57/200\n",
      "3200/3200 [==============================] - 0s 137us/step - loss: 334.5825 - val_loss: 335.7194\n",
      "Epoch 00057: early stopping\n"
     ]
    }
   ],
   "source": [
    "hist1=vae.fit(data_train,data_train,\n",
    "        #shuffle=True,\n",
    "        epochs=epochs,\n",
    "        batch_size=batch_size,\n",
    "        validation_split=0.2,\n",
    "        callbacks=callbacks_list)"
   ]
  },
  {
   "cell_type": "code",
   "execution_count": 103,
   "metadata": {
    "collapsed": false
   },
   "outputs": [
    {
     "data": {
      "image/png": "[encoded data removed]",
      "text/plain": [
       "<Figure size 432x288 with 1 Axes>"
      ]
     },
     "metadata": {},
     "output_type": "display_data"
    }
   ],
   "source": [
    "#Visualize training performance\n",
    "history_df = pd.DataFrame(hist1.history)\n",
    "ax = history_df[1:].plot()\n",
    "ax.set_xlabel('Epochs')\n",
    "ax.set_ylabel('VAE Loss')\n",
    "fig = ax.get_figure()\n",
    "#plt.yscale('log')"
   ]
  },
  {
   "cell_type": "code",
   "execution_count": 104,
   "metadata": {
    "collapsed": false
   },
   "outputs": [
    {
     "name": "stdout",
     "output_type": "stream",
     "text": [
      "Time to train:  106.76\n"
     ]
    }
   ],
   "source": [
    "trained = time.clock()\n",
    "print \"Time to train: \",trained-start"
   ]
  },
  {
   "cell_type": "code",
   "execution_count": 105,
   "metadata": {
    "collapsed": true
   },
   "outputs": [],
   "source": [
    "# encoder, from inputs to latent space\n",
    "encoder = Model(x, z_mean_encoded)\n",
    "#encoder = Model(x, z)\n",
    "\n",
    "# generator, from latent space to reconstructed inputs\n",
    "decoder_input = Input(shape=(latent_dim,))\n",
    "decoded_latent=decoder(decoder_input)\n",
    "generator=Model(decoder_input,decoded_latent)"
   ]
  },
  {
   "cell_type": "code",
   "execution_count": 106,
   "metadata": {
    "collapsed": false
   },
   "outputs": [
    {
     "data": {
      "image/png": "[encoded data removed]",
      "text/plain": [
       "<Figure size 432x288 with 1 Axes>"
      ]
     },
     "metadata": {},
     "output_type": "display_data"
    },
    {
     "name": "stdout",
     "output_type": "stream",
     "text": [
      "0.0002713506199267008 0.11542296422686471\n"
     ]
    }
   ],
   "source": [
    "#data_predict=vae.predict(data_test,batch_size=batch_size)\n",
    "data_predict=vae.predict_on_batch(data_test)\n",
    "diffs=np.subtract(data_predict,data_test).flatten()\n"
   ]
  },
  {
   "cell_type": "code",
   "execution_count": 113,
   "metadata": {
    "collapsed": false
   },
   "outputs": [
    {
     "data": {
      "image/png": "[encoded data removed]",
      "text/plain": [
       "<Figure size 432x288 with 1 Axes>"
      ]
     },
     "metadata": {},
     "output_type": "display_data"
    },
    {
     "name": "stdout",
     "output_type": "stream",
     "text": [
      "0.0002713506199267008 0.11542296422686471\n"
     ]
    }
   ],
   "source": [
    "plt.hist(diffs, bins='auto')  # plt.hist passes it's arguments to np.histogram\n",
    "\n",
    "plt.title(\"Predicted phenotype minus real phenotype (normalized)\")\n",
    "plt.xlim(-0.3,0.3)\n",
    "plt.show()\n",
    "print np.mean(diffs),np.std(diffs)"
   ]
  },
  {
   "cell_type": "code",
   "execution_count": 115,
   "metadata": {
    "collapsed": true
   },
   "outputs": [],
   "source": [
    "encoded_predict=encoder.predict(data_test)\n"
   ]
  },
  {
   "cell_type": "code",
   "execution_count": 140,
   "metadata": {
    "collapsed": false
   },
   "outputs": [],
   "source": [
    "tsne = manifold.TSNE(n_components=2, init='pca', random_state=0, perplexity=50,\n",
    "                     learning_rate=10, n_iter=1000)\n",
    "#tsne = manifold.TSNE(n_components=2, init='pca')\n",
    "\n",
    "tsne_out = tsne.fit_transform(encoded_predict)\n",
    "\n"
   ]
  },
  {
   "cell_type": "code",
   "execution_count": 141,
   "metadata": {
    "collapsed": false
   },
   "outputs": [
    {
     "data": {
      "image/png": "[encoded data removed]",
      "text/plain": [
       "<Figure size 432x288 with 1 Axes>"
      ]
     },
     "metadata": {},
     "output_type": "display_data"
    }
   ],
   "source": [
    "plt.scatter(tsne_out[:,0],tsne_out[:,1])\n",
    "\n",
    "plt.xlabel('Dimension 1')\n",
    "plt.ylabel('Dimension 2')\n",
    "plt.title('Autoencoder QUANTITY FEATURES ONLY tSNE with two components')\n",
    "plt.show()\n"
   ]
  },
  {
   "cell_type": "code",
   "execution_count": 122,
   "metadata": {
    "collapsed": false
   },
   "outputs": [
    {
     "data": {
      "image/png": "[encoded data removed]",
      "text/plain": [
       "<Figure size 432x288 with 1 Axes>"
      ]
     },
     "metadata": {},
     "output_type": "display_data"
    }
   ],
   "source": [
    "from sklearn import decomposition\n",
    "\n",
    "pca = decomposition.PCA(n_components=2)\n",
    "pca_out=pca.fit_transform(encoded_predict)\n",
    "\n",
    "plt.scatter(pca_out[:,0],pca_out[:,1])\n",
    "\n",
    "plt.xlabel('Principal Component 1')\n",
    "plt.ylabel('Principal Component 2')\n",
    "plt.title('Autoencoder QUANTITY FEATURES ONLY')\n",
    "plt.show()"
   ]
  },
  {
   "cell_type": "code",
   "execution_count": null,
   "metadata": {
    "collapsed": true
   },
   "outputs": [],
   "source": []
  }
 ],
 "metadata": {
  "kernelspec": {
   "display_name": "Python [conda env:anaconda-default]",
   "language": "python",
   "name": "conda-env-anaconda-default-py"
  },
  "language_info": {
   "codemirror_mode": {
    "name": "ipython",
    "version": 2
   },
   "file_extension": ".py",
   "mimetype": "text/x-python",
   "name": "python",
   "nbconvert_exporter": "python",
   "pygments_lexer": "ipython2",
   "version": "2.7.14"
  }
 },
 "nbformat": 4,
 "nbformat_minor": 2
}
