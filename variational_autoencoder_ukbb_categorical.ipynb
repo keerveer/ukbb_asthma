{
 "cells": [
  {
   "cell_type": "code",
   "execution_count": 1,
   "metadata": {
    "collapsed": false
   },
   "outputs": [
    {
     "name": "stderr",
     "output_type": "stream",
     "text": [
      "/opt/wakari/anaconda/envs/default/lib/python2.7/site-packages/h5py/__init__.py:36: FutureWarning: Conversion of the second argument of issubdtype from `float` to `np.floating` is deprecated. In future, it will be treated as `np.float64 == np.dtype(float).type`.\n",
      "  from ._conv import register_converters as _register_converters\n",
      "Using TensorFlow backend.\n"
     ]
    }
   ],
   "source": [
    "import tensorflow as tf\n",
    "import numpy as np\n",
    "import matplotlib.pyplot as plt\n",
    "from scipy.stats import norm\n",
    "\n",
    "from keras.layers import Input, Dense, Lambda, Layer, Dropout\n",
    "from keras.models import Model\n",
    "from keras import backend as K\n",
    "from keras import metrics\n",
    "import pandas as pd\n",
    "#import tensorflow as tf\n",
    "import keras"
   ]
  },
  {
   "cell_type": "code",
   "execution_count": 2,
   "metadata": {
    "collapsed": true
   },
   "outputs": [],
   "source": [
    "import os\n",
    "import matplotlib.pyplot as plt\n",
    "plt.style.use('ggplot')\n",
    "%matplotlib inline\n",
    "#import pydot\n",
    "#import graphviz\n",
    "from keras.utils import plot_model\n",
    "from IPython.display import SVG\n",
    "from keras.utils.vis_utils import model_to_dot"
   ]
  },
  {
   "cell_type": "code",
   "execution_count": 27,
   "metadata": {
    "collapsed": true
   },
   "outputs": [],
   "source": [
    "from sklearn import preprocessing\n",
    "from sklearn.model_selection import train_test_split\n",
    "from sklearn import manifold\n",
    "from numpy import array\n",
    "from numpy import argmax\n",
    "from sklearn.preprocessing import LabelEncoder\n",
    "from sklearn.preprocessing import OneHotEncoder"
   ]
  },
  {
   "cell_type": "code",
   "execution_count": 4,
   "metadata": {
    "collapsed": false
   },
   "outputs": [
    {
     "name": "stderr",
     "output_type": "stream",
     "text": [
      "/opt/wakari/anaconda/envs/default/lib/python2.7/site-packages/IPython/core/interactiveshell.py:2714: DtypeWarning: Columns (3,2931,2943) have mixed types. Specify dtype option on import or set low_memory=False.\n",
      "  interactivity=interactivity, compiler=compiler, result=result)\n"
     ]
    }
   ],
   "source": [
    "asthma_df=pd.read_csv(\"ukbb_asthma_sample_5k.csv\",sep='\\t')"
   ]
  },
  {
   "cell_type": "code",
   "execution_count": 5,
   "metadata": {
    "collapsed": true
   },
   "outputs": [],
   "source": [
    "# Select columns to filter on\n",
    "cols = [col for col in asthma_df.columns if 'HES_p' not in col and 'PC' not in col]\n",
    "asthma_df=asthma_df[cols].drop('Unnamed: 0',axis=1)"
   ]
  },
  {
   "cell_type": "code",
   "execution_count": 48,
   "metadata": {
    "collapsed": true
   },
   "outputs": [],
   "source": [
    "#select only 'QUANTITY' fields\n",
    "'''\n",
    "asthma_df_quant=asthma_df.loc[:, asthma_df.columns.str.contains('QUANT|age|BMI')].fillna(0.0)\n",
    "#select only fields with 10 or more unique values\n",
    "for col in asthma_df_quant.columns:\n",
    "    if len(asthma_df_quant[col].unique()) < 20 :\n",
    "        asthma_df_quant.drop(col,inplace=True,axis=1)\n",
    "'''\n",
    "        \n",
    "#select only 'QUANTITY' and \"CATEGORY\" fields\n",
    "asthma_df_quant_cat=asthma_df.loc[:, asthma_df.columns.str.contains('QUANT|age|BMI|CAT|sex')].fillna(0.0)\n",
    "asthma_df_quant_cat=asthma_df_quant_cat.drop(columns=['f_22182_0_0_f_CAT_HLA_imputation_values_and_quality'])\n",
    "\n",
    "for col in asthma_df_quant_cat.columns:\n",
    "    if 'QUANT' in col:\n",
    "        if len(asthma_df_quant_cat[col].unique()) < 20 :\n",
    "            asthma_df_quant_cat.drop(col,inplace=True,axis=1)"
   ]
  },
  {
   "cell_type": "code",
   "execution_count": 17,
   "metadata": {
    "collapsed": false
   },
   "outputs": [],
   "source": [
    "#asthma_df_quant_cat['f_40019_0_p_D44_CAT_Neoplasm_of_uncertain_or_unknown_behaviour_of_endocrine_glands'].value_counts()"
   ]
  },
  {
   "cell_type": "code",
   "execution_count": 56,
   "metadata": {
    "collapsed": false
   },
   "outputs": [],
   "source": [
    "#onehot_encoder = OneHotEncoder(sparse=False)\n",
    "#onehot_encoded = onehot_encoder.fit_transform(categorical_variables.keys())"
   ]
  },
  {
   "cell_type": "code",
   "execution_count": 69,
   "metadata": {
    "collapsed": false
   },
   "outputs": [
    {
     "data": {
      "text/html": [
       "<div>\n",
       "<style scoped>\n",
       "    .dataframe tbody tr th:only-of-type {\n",
       "        vertical-align: middle;\n",
       "    }\n",
       "\n",
       "    .dataframe tbody tr th {\n",
       "        vertical-align: top;\n",
       "    }\n",
       "\n",
       "    .dataframe thead th {\n",
       "        text-align: right;\n",
       "    }\n",
       "</style>\n",
       "<table border=\"1\" class=\"dataframe\">\n",
       "  <thead>\n",
       "    <tr style=\"text-align: right;\">\n",
       "      <th></th>\n",
       "      <th>sex</th>\n",
       "      <th>age</th>\n",
       "      <th>BMI</th>\n",
       "      <th>f_20006_0_0_f_QUANT_Interpolated_Year_when_cancer_first_diagnosed</th>\n",
       "      <th>f_20008_0_0_f_QUANT_Interpolated_Year_when_non_cancer_illness_first_diagnosed</th>\n",
       "      <th>f_20010_0_0_f_QUANT_Interpolated_Year_when_operation_took_place</th>\n",
       "      <th>f_1269_0_0_f_QUANT_Exposure_to_tobacco_smoke_at_home</th>\n",
       "      <th>f_1279_0_0_f_QUANT_Exposure_to_tobacco_smoke_outside_home</th>\n",
       "      <th>f_1807_0_0_f_QUANT_Father_s_age_at_death</th>\n",
       "      <th>f_2867_0_0_f_QUANT_Age_started_smoking_in_former_smokers</th>\n",
       "      <th>...</th>\n",
       "      <th>f_40019_0_p_D40_CAT_Neoplasm_of_uncertain_or_unknown_behaviour_of_male_genital_organs</th>\n",
       "      <th>f_40019_0_p_D41_CAT_Neoplasm_of_uncertain_or_unknown_behaviour_of_urinary_organs</th>\n",
       "      <th>f_40019_0_p_D42_CAT_Neoplasm_of_uncertain_or_unknown_behaviour_of_meninges</th>\n",
       "      <th>f_40019_0_p_D43_CAT_Neoplasm_of_uncertain_or_unknown_behaviour_of_brain_and_CNS</th>\n",
       "      <th>f_40019_0_p_D44_CAT_Neoplasm_of_uncertain_or_unknown_behaviour_of_endocrine_glands</th>\n",
       "      <th>f_40019_0_p_D45_CAT_Polycythaemia_vera</th>\n",
       "      <th>f_40019_0_p_D46_CAT_Myelodysplastic_syndromes</th>\n",
       "      <th>f_40019_0_p_D47_CAT_Other_neoplasms_of_uncertain_behaviour_of_lymphoid_haematopoietic</th>\n",
       "      <th>f_40019_0_p_D48_CAT_Neoplasm_of_uncertain_or_unknown_behaviour_of_other_sites</th>\n",
       "      <th>f_40019_0_p_O01_CAT_Hydatidiform_mole</th>\n",
       "    </tr>\n",
       "  </thead>\n",
       "  <tbody>\n",
       "    <tr>\n",
       "      <th>0</th>\n",
       "      <td>1</td>\n",
       "      <td>63</td>\n",
       "      <td>21.3476</td>\n",
       "      <td>2004.5</td>\n",
       "      <td>0.00</td>\n",
       "      <td>1980.5</td>\n",
       "      <td>0.0</td>\n",
       "      <td>0.0</td>\n",
       "      <td>60.0</td>\n",
       "      <td>0.0</td>\n",
       "      <td>...</td>\n",
       "      <td>0.0</td>\n",
       "      <td>0.0</td>\n",
       "      <td>0.0</td>\n",
       "      <td>0.0</td>\n",
       "      <td>0.0</td>\n",
       "      <td>0.0</td>\n",
       "      <td>0.0</td>\n",
       "      <td>0.0</td>\n",
       "      <td>0.0</td>\n",
       "      <td>0.0</td>\n",
       "    </tr>\n",
       "    <tr>\n",
       "      <th>1</th>\n",
       "      <td>2</td>\n",
       "      <td>51</td>\n",
       "      <td>25.9862</td>\n",
       "      <td>0.0</td>\n",
       "      <td>2007.50</td>\n",
       "      <td>1965.5</td>\n",
       "      <td>0.0</td>\n",
       "      <td>1.0</td>\n",
       "      <td>0.0</td>\n",
       "      <td>0.0</td>\n",
       "      <td>...</td>\n",
       "      <td>0.0</td>\n",
       "      <td>0.0</td>\n",
       "      <td>0.0</td>\n",
       "      <td>0.0</td>\n",
       "      <td>0.0</td>\n",
       "      <td>0.0</td>\n",
       "      <td>0.0</td>\n",
       "      <td>0.0</td>\n",
       "      <td>0.0</td>\n",
       "      <td>0.0</td>\n",
       "    </tr>\n",
       "    <tr>\n",
       "      <th>2</th>\n",
       "      <td>2</td>\n",
       "      <td>58</td>\n",
       "      <td>21.2239</td>\n",
       "      <td>0.0</td>\n",
       "      <td>2010.23</td>\n",
       "      <td>0.0</td>\n",
       "      <td>0.0</td>\n",
       "      <td>0.0</td>\n",
       "      <td>75.0</td>\n",
       "      <td>0.0</td>\n",
       "      <td>...</td>\n",
       "      <td>0.0</td>\n",
       "      <td>0.0</td>\n",
       "      <td>0.0</td>\n",
       "      <td>0.0</td>\n",
       "      <td>0.0</td>\n",
       "      <td>0.0</td>\n",
       "      <td>0.0</td>\n",
       "      <td>0.0</td>\n",
       "      <td>0.0</td>\n",
       "      <td>0.0</td>\n",
       "    </tr>\n",
       "    <tr>\n",
       "      <th>3</th>\n",
       "      <td>2</td>\n",
       "      <td>69</td>\n",
       "      <td>27.0389</td>\n",
       "      <td>0.0</td>\n",
       "      <td>1970.88</td>\n",
       "      <td>0.0</td>\n",
       "      <td>0.0</td>\n",
       "      <td>0.0</td>\n",
       "      <td>59.0</td>\n",
       "      <td>0.0</td>\n",
       "      <td>...</td>\n",
       "      <td>0.0</td>\n",
       "      <td>0.0</td>\n",
       "      <td>0.0</td>\n",
       "      <td>0.0</td>\n",
       "      <td>0.0</td>\n",
       "      <td>0.0</td>\n",
       "      <td>0.0</td>\n",
       "      <td>0.0</td>\n",
       "      <td>0.0</td>\n",
       "      <td>0.0</td>\n",
       "    </tr>\n",
       "    <tr>\n",
       "      <th>4</th>\n",
       "      <td>2</td>\n",
       "      <td>64</td>\n",
       "      <td>31.5993</td>\n",
       "      <td>0.0</td>\n",
       "      <td>1996.17</td>\n",
       "      <td>0.0</td>\n",
       "      <td>0.0</td>\n",
       "      <td>0.0</td>\n",
       "      <td>89.0</td>\n",
       "      <td>0.0</td>\n",
       "      <td>...</td>\n",
       "      <td>0.0</td>\n",
       "      <td>0.0</td>\n",
       "      <td>0.0</td>\n",
       "      <td>0.0</td>\n",
       "      <td>0.0</td>\n",
       "      <td>0.0</td>\n",
       "      <td>0.0</td>\n",
       "      <td>0.0</td>\n",
       "      <td>0.0</td>\n",
       "      <td>0.0</td>\n",
       "    </tr>\n",
       "  </tbody>\n",
       "</table>\n",
       "<p>5 rows × 1139 columns</p>\n",
       "</div>"
      ],
      "text/plain": [
       "   sex  age      BMI  \\\n",
       "0    1   63  21.3476   \n",
       "1    2   51  25.9862   \n",
       "2    2   58  21.2239   \n",
       "3    2   69  27.0389   \n",
       "4    2   64  31.5993   \n",
       "\n",
       "   f_20006_0_0_f_QUANT_Interpolated_Year_when_cancer_first_diagnosed  \\\n",
       "0                                             2004.5                   \n",
       "1                                                0.0                   \n",
       "2                                                0.0                   \n",
       "3                                                0.0                   \n",
       "4                                                0.0                   \n",
       "\n",
       "   f_20008_0_0_f_QUANT_Interpolated_Year_when_non_cancer_illness_first_diagnosed  \\\n",
       "0                                               0.00                               \n",
       "1                                            2007.50                               \n",
       "2                                            2010.23                               \n",
       "3                                            1970.88                               \n",
       "4                                            1996.17                               \n",
       "\n",
       "   f_20010_0_0_f_QUANT_Interpolated_Year_when_operation_took_place  \\\n",
       "0                                             1980.5                 \n",
       "1                                             1965.5                 \n",
       "2                                                0.0                 \n",
       "3                                                0.0                 \n",
       "4                                                0.0                 \n",
       "\n",
       "   f_1269_0_0_f_QUANT_Exposure_to_tobacco_smoke_at_home  \\\n",
       "0                                                0.0      \n",
       "1                                                0.0      \n",
       "2                                                0.0      \n",
       "3                                                0.0      \n",
       "4                                                0.0      \n",
       "\n",
       "   f_1279_0_0_f_QUANT_Exposure_to_tobacco_smoke_outside_home  \\\n",
       "0                                                0.0           \n",
       "1                                                1.0           \n",
       "2                                                0.0           \n",
       "3                                                0.0           \n",
       "4                                                0.0           \n",
       "\n",
       "   f_1807_0_0_f_QUANT_Father_s_age_at_death  \\\n",
       "0                                      60.0   \n",
       "1                                       0.0   \n",
       "2                                      75.0   \n",
       "3                                      59.0   \n",
       "4                                      89.0   \n",
       "\n",
       "   f_2867_0_0_f_QUANT_Age_started_smoking_in_former_smokers  \\\n",
       "0                                                0.0          \n",
       "1                                                0.0          \n",
       "2                                                0.0          \n",
       "3                                                0.0          \n",
       "4                                                0.0          \n",
       "\n",
       "                   ...                    \\\n",
       "0                  ...                     \n",
       "1                  ...                     \n",
       "2                  ...                     \n",
       "3                  ...                     \n",
       "4                  ...                     \n",
       "\n",
       "   f_40019_0_p_D40_CAT_Neoplasm_of_uncertain_or_unknown_behaviour_of_male_genital_organs  \\\n",
       "0                                                0.0                                       \n",
       "1                                                0.0                                       \n",
       "2                                                0.0                                       \n",
       "3                                                0.0                                       \n",
       "4                                                0.0                                       \n",
       "\n",
       "   f_40019_0_p_D41_CAT_Neoplasm_of_uncertain_or_unknown_behaviour_of_urinary_organs  \\\n",
       "0                                                0.0                                  \n",
       "1                                                0.0                                  \n",
       "2                                                0.0                                  \n",
       "3                                                0.0                                  \n",
       "4                                                0.0                                  \n",
       "\n",
       "   f_40019_0_p_D42_CAT_Neoplasm_of_uncertain_or_unknown_behaviour_of_meninges  \\\n",
       "0                                                0.0                            \n",
       "1                                                0.0                            \n",
       "2                                                0.0                            \n",
       "3                                                0.0                            \n",
       "4                                                0.0                            \n",
       "\n",
       "   f_40019_0_p_D43_CAT_Neoplasm_of_uncertain_or_unknown_behaviour_of_brain_and_CNS  \\\n",
       "0                                                0.0                                 \n",
       "1                                                0.0                                 \n",
       "2                                                0.0                                 \n",
       "3                                                0.0                                 \n",
       "4                                                0.0                                 \n",
       "\n",
       "   f_40019_0_p_D44_CAT_Neoplasm_of_uncertain_or_unknown_behaviour_of_endocrine_glands  \\\n",
       "0                                                0.0                                    \n",
       "1                                                0.0                                    \n",
       "2                                                0.0                                    \n",
       "3                                                0.0                                    \n",
       "4                                                0.0                                    \n",
       "\n",
       "   f_40019_0_p_D45_CAT_Polycythaemia_vera  \\\n",
       "0                                     0.0   \n",
       "1                                     0.0   \n",
       "2                                     0.0   \n",
       "3                                     0.0   \n",
       "4                                     0.0   \n",
       "\n",
       "   f_40019_0_p_D46_CAT_Myelodysplastic_syndromes  \\\n",
       "0                                            0.0   \n",
       "1                                            0.0   \n",
       "2                                            0.0   \n",
       "3                                            0.0   \n",
       "4                                            0.0   \n",
       "\n",
       "   f_40019_0_p_D47_CAT_Other_neoplasms_of_uncertain_behaviour_of_lymphoid_haematopoietic  \\\n",
       "0                                                0.0                                       \n",
       "1                                                0.0                                       \n",
       "2                                                0.0                                       \n",
       "3                                                0.0                                       \n",
       "4                                                0.0                                       \n",
       "\n",
       "   f_40019_0_p_D48_CAT_Neoplasm_of_uncertain_or_unknown_behaviour_of_other_sites  \\\n",
       "0                                                0.0                               \n",
       "1                                                0.0                               \n",
       "2                                                0.0                               \n",
       "3                                                0.0                               \n",
       "4                                                0.0                               \n",
       "\n",
       "   f_40019_0_p_O01_CAT_Hydatidiform_mole  \n",
       "0                                    0.0  \n",
       "1                                    0.0  \n",
       "2                                    0.0  \n",
       "3                                    0.0  \n",
       "4                                    0.0  \n",
       "\n",
       "[5 rows x 1139 columns]"
      ]
     },
     "execution_count": 69,
     "metadata": {},
     "output_type": "execute_result"
    }
   ],
   "source": [
    "asthma_df_quant_cat.head()"
   ]
  },
  {
   "cell_type": "code",
   "execution_count": 73,
   "metadata": {
    "collapsed": false
   },
   "outputs": [],
   "source": [
    "one_hots=[]\n",
    "for column in asthma_df_quant_cat.columns:\n",
    "    if 'CAT' in column or 'sex'==column:\n",
    "        one_hot=pd.get_dummies(asthma_df_quant_cat[column])\n",
    "        for o_col in one_hot.columns:\n",
    "            one_hot=one_hot.rename(columns={o_col:column+'_'+str(o_col)})\n",
    "        asthma_df_quant_cat=asthma_df_quant_cat.drop(column,axis=1)\n",
    "        one_hots.append(one_hot)"
   ]
  },
  {
   "cell_type": "code",
   "execution_count": 76,
   "metadata": {
    "collapsed": false
   },
   "outputs": [],
   "source": [
    "for one_hot in one_hots:\n",
    "    asthma_df_quant_cat=asthma_df_quant_cat.join(one_hot)"
   ]
  },
  {
   "cell_type": "code",
   "execution_count": 78,
   "metadata": {
    "collapsed": false
   },
   "outputs": [
    {
     "data": {
      "text/html": [
       "<div>\n",
       "<style scoped>\n",
       "    .dataframe tbody tr th:only-of-type {\n",
       "        vertical-align: middle;\n",
       "    }\n",
       "\n",
       "    .dataframe tbody tr th {\n",
       "        vertical-align: top;\n",
       "    }\n",
       "\n",
       "    .dataframe thead th {\n",
       "        text-align: right;\n",
       "    }\n",
       "</style>\n",
       "<table border=\"1\" class=\"dataframe\">\n",
       "  <thead>\n",
       "    <tr style=\"text-align: right;\">\n",
       "      <th></th>\n",
       "      <th>age</th>\n",
       "      <th>BMI</th>\n",
       "      <th>f_20006_0_0_f_QUANT_Interpolated_Year_when_cancer_first_diagnosed</th>\n",
       "      <th>f_20008_0_0_f_QUANT_Interpolated_Year_when_non_cancer_illness_first_diagnosed</th>\n",
       "      <th>f_20010_0_0_f_QUANT_Interpolated_Year_when_operation_took_place</th>\n",
       "      <th>f_1269_0_0_f_QUANT_Exposure_to_tobacco_smoke_at_home</th>\n",
       "      <th>f_1279_0_0_f_QUANT_Exposure_to_tobacco_smoke_outside_home</th>\n",
       "      <th>f_1807_0_0_f_QUANT_Father_s_age_at_death</th>\n",
       "      <th>f_2867_0_0_f_QUANT_Age_started_smoking_in_former_smokers</th>\n",
       "      <th>f_2966_0_0_f_QUANT_Age_high_blood_pressure_diagnosed</th>\n",
       "      <th>...</th>\n",
       "      <th>f_40019_0_p_D44_CAT_Neoplasm_of_uncertain_or_unknown_behaviour_of_endocrine_glands_3.0</th>\n",
       "      <th>f_40019_0_p_D44_CAT_Neoplasm_of_uncertain_or_unknown_behaviour_of_endocrine_glands_13.0</th>\n",
       "      <th>f_40019_0_p_D45_CAT_Polycythaemia_vera_0.0</th>\n",
       "      <th>f_40019_0_p_D45_CAT_Polycythaemia_vera_3.0</th>\n",
       "      <th>f_40019_0_p_D46_CAT_Myelodysplastic_syndromes_0.0</th>\n",
       "      <th>f_40019_0_p_D47_CAT_Other_neoplasms_of_uncertain_behaviour_of_lymphoid_haematopoietic_0.0</th>\n",
       "      <th>f_40019_0_p_D47_CAT_Other_neoplasms_of_uncertain_behaviour_of_lymphoid_haematopoietic_3.0</th>\n",
       "      <th>f_40019_0_p_D47_CAT_Other_neoplasms_of_uncertain_behaviour_of_lymphoid_haematopoietic_23.0</th>\n",
       "      <th>f_40019_0_p_D48_CAT_Neoplasm_of_uncertain_or_unknown_behaviour_of_other_sites_0.0</th>\n",
       "      <th>f_40019_0_p_O01_CAT_Hydatidiform_mole_0.0</th>\n",
       "    </tr>\n",
       "  </thead>\n",
       "  <tbody>\n",
       "    <tr>\n",
       "      <th>0</th>\n",
       "      <td>63</td>\n",
       "      <td>21.3476</td>\n",
       "      <td>2004.5</td>\n",
       "      <td>0.00</td>\n",
       "      <td>1980.5</td>\n",
       "      <td>0.0</td>\n",
       "      <td>0.0</td>\n",
       "      <td>60.0</td>\n",
       "      <td>0.0</td>\n",
       "      <td>0.0</td>\n",
       "      <td>...</td>\n",
       "      <td>0</td>\n",
       "      <td>0</td>\n",
       "      <td>1</td>\n",
       "      <td>0</td>\n",
       "      <td>1</td>\n",
       "      <td>1</td>\n",
       "      <td>0</td>\n",
       "      <td>0</td>\n",
       "      <td>1</td>\n",
       "      <td>1</td>\n",
       "    </tr>\n",
       "    <tr>\n",
       "      <th>1</th>\n",
       "      <td>51</td>\n",
       "      <td>25.9862</td>\n",
       "      <td>0.0</td>\n",
       "      <td>2007.50</td>\n",
       "      <td>1965.5</td>\n",
       "      <td>0.0</td>\n",
       "      <td>1.0</td>\n",
       "      <td>0.0</td>\n",
       "      <td>0.0</td>\n",
       "      <td>0.0</td>\n",
       "      <td>...</td>\n",
       "      <td>0</td>\n",
       "      <td>0</td>\n",
       "      <td>1</td>\n",
       "      <td>0</td>\n",
       "      <td>1</td>\n",
       "      <td>1</td>\n",
       "      <td>0</td>\n",
       "      <td>0</td>\n",
       "      <td>1</td>\n",
       "      <td>1</td>\n",
       "    </tr>\n",
       "    <tr>\n",
       "      <th>2</th>\n",
       "      <td>58</td>\n",
       "      <td>21.2239</td>\n",
       "      <td>0.0</td>\n",
       "      <td>2010.23</td>\n",
       "      <td>0.0</td>\n",
       "      <td>0.0</td>\n",
       "      <td>0.0</td>\n",
       "      <td>75.0</td>\n",
       "      <td>0.0</td>\n",
       "      <td>58.0</td>\n",
       "      <td>...</td>\n",
       "      <td>0</td>\n",
       "      <td>0</td>\n",
       "      <td>1</td>\n",
       "      <td>0</td>\n",
       "      <td>1</td>\n",
       "      <td>1</td>\n",
       "      <td>0</td>\n",
       "      <td>0</td>\n",
       "      <td>1</td>\n",
       "      <td>1</td>\n",
       "    </tr>\n",
       "    <tr>\n",
       "      <th>3</th>\n",
       "      <td>69</td>\n",
       "      <td>27.0389</td>\n",
       "      <td>0.0</td>\n",
       "      <td>1970.88</td>\n",
       "      <td>0.0</td>\n",
       "      <td>0.0</td>\n",
       "      <td>0.0</td>\n",
       "      <td>59.0</td>\n",
       "      <td>0.0</td>\n",
       "      <td>30.0</td>\n",
       "      <td>...</td>\n",
       "      <td>0</td>\n",
       "      <td>0</td>\n",
       "      <td>1</td>\n",
       "      <td>0</td>\n",
       "      <td>1</td>\n",
       "      <td>1</td>\n",
       "      <td>0</td>\n",
       "      <td>0</td>\n",
       "      <td>1</td>\n",
       "      <td>1</td>\n",
       "    </tr>\n",
       "    <tr>\n",
       "      <th>4</th>\n",
       "      <td>64</td>\n",
       "      <td>31.5993</td>\n",
       "      <td>0.0</td>\n",
       "      <td>1996.17</td>\n",
       "      <td>0.0</td>\n",
       "      <td>0.0</td>\n",
       "      <td>0.0</td>\n",
       "      <td>89.0</td>\n",
       "      <td>0.0</td>\n",
       "      <td>0.0</td>\n",
       "      <td>...</td>\n",
       "      <td>0</td>\n",
       "      <td>0</td>\n",
       "      <td>1</td>\n",
       "      <td>0</td>\n",
       "      <td>1</td>\n",
       "      <td>1</td>\n",
       "      <td>0</td>\n",
       "      <td>0</td>\n",
       "      <td>1</td>\n",
       "      <td>1</td>\n",
       "    </tr>\n",
       "  </tbody>\n",
       "</table>\n",
       "<p>5 rows × 1582 columns</p>\n",
       "</div>"
      ],
      "text/plain": [
       "   age      BMI  \\\n",
       "0   63  21.3476   \n",
       "1   51  25.9862   \n",
       "2   58  21.2239   \n",
       "3   69  27.0389   \n",
       "4   64  31.5993   \n",
       "\n",
       "   f_20006_0_0_f_QUANT_Interpolated_Year_when_cancer_first_diagnosed  \\\n",
       "0                                             2004.5                   \n",
       "1                                                0.0                   \n",
       "2                                                0.0                   \n",
       "3                                                0.0                   \n",
       "4                                                0.0                   \n",
       "\n",
       "   f_20008_0_0_f_QUANT_Interpolated_Year_when_non_cancer_illness_first_diagnosed  \\\n",
       "0                                               0.00                               \n",
       "1                                            2007.50                               \n",
       "2                                            2010.23                               \n",
       "3                                            1970.88                               \n",
       "4                                            1996.17                               \n",
       "\n",
       "   f_20010_0_0_f_QUANT_Interpolated_Year_when_operation_took_place  \\\n",
       "0                                             1980.5                 \n",
       "1                                             1965.5                 \n",
       "2                                                0.0                 \n",
       "3                                                0.0                 \n",
       "4                                                0.0                 \n",
       "\n",
       "   f_1269_0_0_f_QUANT_Exposure_to_tobacco_smoke_at_home  \\\n",
       "0                                                0.0      \n",
       "1                                                0.0      \n",
       "2                                                0.0      \n",
       "3                                                0.0      \n",
       "4                                                0.0      \n",
       "\n",
       "   f_1279_0_0_f_QUANT_Exposure_to_tobacco_smoke_outside_home  \\\n",
       "0                                                0.0           \n",
       "1                                                1.0           \n",
       "2                                                0.0           \n",
       "3                                                0.0           \n",
       "4                                                0.0           \n",
       "\n",
       "   f_1807_0_0_f_QUANT_Father_s_age_at_death  \\\n",
       "0                                      60.0   \n",
       "1                                       0.0   \n",
       "2                                      75.0   \n",
       "3                                      59.0   \n",
       "4                                      89.0   \n",
       "\n",
       "   f_2867_0_0_f_QUANT_Age_started_smoking_in_former_smokers  \\\n",
       "0                                                0.0          \n",
       "1                                                0.0          \n",
       "2                                                0.0          \n",
       "3                                                0.0          \n",
       "4                                                0.0          \n",
       "\n",
       "   f_2966_0_0_f_QUANT_Age_high_blood_pressure_diagnosed  \\\n",
       "0                                                0.0      \n",
       "1                                                0.0      \n",
       "2                                               58.0      \n",
       "3                                               30.0      \n",
       "4                                                0.0      \n",
       "\n",
       "                     ...                      \\\n",
       "0                    ...                       \n",
       "1                    ...                       \n",
       "2                    ...                       \n",
       "3                    ...                       \n",
       "4                    ...                       \n",
       "\n",
       "   f_40019_0_p_D44_CAT_Neoplasm_of_uncertain_or_unknown_behaviour_of_endocrine_glands_3.0  \\\n",
       "0                                                  0                                        \n",
       "1                                                  0                                        \n",
       "2                                                  0                                        \n",
       "3                                                  0                                        \n",
       "4                                                  0                                        \n",
       "\n",
       "   f_40019_0_p_D44_CAT_Neoplasm_of_uncertain_or_unknown_behaviour_of_endocrine_glands_13.0  \\\n",
       "0                                                  0                                         \n",
       "1                                                  0                                         \n",
       "2                                                  0                                         \n",
       "3                                                  0                                         \n",
       "4                                                  0                                         \n",
       "\n",
       "   f_40019_0_p_D45_CAT_Polycythaemia_vera_0.0  \\\n",
       "0                                           1   \n",
       "1                                           1   \n",
       "2                                           1   \n",
       "3                                           1   \n",
       "4                                           1   \n",
       "\n",
       "   f_40019_0_p_D45_CAT_Polycythaemia_vera_3.0  \\\n",
       "0                                           0   \n",
       "1                                           0   \n",
       "2                                           0   \n",
       "3                                           0   \n",
       "4                                           0   \n",
       "\n",
       "   f_40019_0_p_D46_CAT_Myelodysplastic_syndromes_0.0  \\\n",
       "0                                                  1   \n",
       "1                                                  1   \n",
       "2                                                  1   \n",
       "3                                                  1   \n",
       "4                                                  1   \n",
       "\n",
       "   f_40019_0_p_D47_CAT_Other_neoplasms_of_uncertain_behaviour_of_lymphoid_haematopoietic_0.0  \\\n",
       "0                                                  1                                           \n",
       "1                                                  1                                           \n",
       "2                                                  1                                           \n",
       "3                                                  1                                           \n",
       "4                                                  1                                           \n",
       "\n",
       "   f_40019_0_p_D47_CAT_Other_neoplasms_of_uncertain_behaviour_of_lymphoid_haematopoietic_3.0  \\\n",
       "0                                                  0                                           \n",
       "1                                                  0                                           \n",
       "2                                                  0                                           \n",
       "3                                                  0                                           \n",
       "4                                                  0                                           \n",
       "\n",
       "   f_40019_0_p_D47_CAT_Other_neoplasms_of_uncertain_behaviour_of_lymphoid_haematopoietic_23.0  \\\n",
       "0                                                  0                                            \n",
       "1                                                  0                                            \n",
       "2                                                  0                                            \n",
       "3                                                  0                                            \n",
       "4                                                  0                                            \n",
       "\n",
       "   f_40019_0_p_D48_CAT_Neoplasm_of_uncertain_or_unknown_behaviour_of_other_sites_0.0  \\\n",
       "0                                                  1                                   \n",
       "1                                                  1                                   \n",
       "2                                                  1                                   \n",
       "3                                                  1                                   \n",
       "4                                                  1                                   \n",
       "\n",
       "   f_40019_0_p_O01_CAT_Hydatidiform_mole_0.0  \n",
       "0                                          1  \n",
       "1                                          1  \n",
       "2                                          1  \n",
       "3                                          1  \n",
       "4                                          1  \n",
       "\n",
       "[5 rows x 1582 columns]"
      ]
     },
     "execution_count": 78,
     "metadata": {},
     "output_type": "execute_result"
    }
   ],
   "source": [
    "asthma_df_quant_cat.head()"
   ]
  },
  {
   "cell_type": "code",
   "execution_count": 79,
   "metadata": {
    "collapsed": false
   },
   "outputs": [],
   "source": [
    "#data=asthma_df_quant.transpose().values\n",
    "asthma_df_quant_scaled=asthma_df_quant_cat\n",
    "scaler = preprocessing.MinMaxScaler(feature_range=(0.0, 1.0))\n",
    "asthma_df_quant_scaled[asthma_df_quant_scaled.columns]=scaler.fit_transform(asthma_df_quant_cat[asthma_df_quant_cat.columns])"
   ]
  },
  {
   "cell_type": "code",
   "execution_count": 80,
   "metadata": {
    "collapsed": false
   },
   "outputs": [
    {
     "data": {
      "text/plain": [
       "<matplotlib.collections.PathCollection at 0x7f0e0e744590>"
      ]
     },
     "execution_count": 80,
     "metadata": {},
     "output_type": "execute_result"
    },
    {
     "data": {
      "image/png": "[encoded data removed]",
      "text/plain": [
       "<Figure size 432x288 with 1 Axes>"
      ]
     },
     "metadata": {},
     "output_type": "display_data"
    }
   ],
   "source": [
    "plt.scatter(asthma_df['age'].values,asthma_df_quant_scaled['age'].values)"
   ]
  },
  {
   "cell_type": "code",
   "execution_count": 81,
   "metadata": {
    "collapsed": false
   },
   "outputs": [],
   "source": [
    "data_minmax=asthma_df_quant_scaled.values"
   ]
  },
  {
   "cell_type": "code",
   "execution_count": 82,
   "metadata": {
    "collapsed": false
   },
   "outputs": [
    {
     "name": "stdout",
     "output_type": "stream",
     "text": [
      "(5000, 1582)\n"
     ]
    }
   ],
   "source": [
    "print data_minmax.shape"
   ]
  },
  {
   "cell_type": "code",
   "execution_count": 84,
   "metadata": {
    "collapsed": false
   },
   "outputs": [],
   "source": [
    "batch_size = 50\n",
    "original_dim = data_minmax.shape[1]\n",
    "#latent_dim = 2\n",
    "latent_dim=30\n",
    "#intermediate_dim = 500\n",
    "epochs = 200\n",
    "epsilon_std = 1.0\n",
    "learning_rate=0.0005\n",
    "momentum=0.9"
   ]
  },
  {
   "cell_type": "code",
   "execution_count": 85,
   "metadata": {
    "collapsed": true
   },
   "outputs": [],
   "source": [
    "def sampling(args):\n",
    "    \n",
    "    import tensorflow as tf\n",
    "    epsilon_std=1.0\n",
    "    \n",
    "    z_mean, z_log_var = args\n",
    "    #epsilon = K.random_normal(shape=(batch_size, latent_dim), mean=0.,\n",
    "                             # stddev=epsilon_std)\n",
    "    epsilon = K.random_normal(shape=tf.shape(z_mean), mean=0.,\n",
    "                              stddev=epsilon_std)\n",
    "    return z_mean + K.exp(z_log_var / 2) * epsilon\n",
    "\n",
    "def vae_loss(x, x_decoded_mean):\n",
    "        xent_loss = original_dim * metrics.binary_crossentropy(x, x_decoded_mean)\n",
    "        kl_loss = - 0.5 * K.sum(1 + z_log_var_encoded - K.square(z_mean_encoded) - K.exp(z_log_var_encoded), axis=-1)\n",
    "        return K.mean(xent_loss + kl_loss)"
   ]
  },
  {
   "cell_type": "code",
   "execution_count": 86,
   "metadata": {
    "collapsed": true
   },
   "outputs": [],
   "source": [
    "#Encoder\n",
    "x = Input(shape=(original_dim, ))\n",
    "\n",
    "# Input layer is compressed into a mean and log variance vector of size `latent_dim`\n",
    "# Each layer is initialized with glorot uniform weights and each step (dense connections, batch norm,\n",
    "# and relu activation) are funneled separately\n",
    "# Each vector of length `latent_dim` are connected to the input tensor\n",
    "# Use dropout to help with training and overfitting\n",
    "# Use batch normalization for regularization\n",
    "\n",
    "dropout_frac=0.1\n",
    "dropout_mean=Dropout(dropout_frac, input_shape=(original_dim,))(x)\n",
    "dropout_var=Dropout(dropout_frac, input_shape=(original_dim,))(x)\n",
    "\n",
    "z_mean_dense_linear = Dense(latent_dim, kernel_initializer='glorot_uniform')(dropout_mean)\n",
    "z_mean_dense_batchnorm = keras.layers.BatchNormalization(momentum=momentum)(z_mean_dense_linear)\n",
    "z_mean_encoded = keras.layers.Activation('relu')(z_mean_dense_batchnorm)\n",
    "\n",
    "z_log_var_dense_linear = Dense(latent_dim, kernel_initializer='glorot_uniform')(dropout_var)\n",
    "z_log_var_dense_batchnorm = keras.layers.BatchNormalization(momentum=momentum)(z_log_var_dense_linear)\n",
    "z_log_var_encoded = keras.layers.Activation('relu')(z_log_var_dense_batchnorm)\n",
    "\n",
    "# return the encoded and randomly sampled z vector\n",
    "# Takes two keras layers as input to the custom sampling function layer with a `latent_dim` output\n",
    "z = Lambda(sampling, output_shape=(latent_dim, ))([z_mean_encoded, z_log_var_encoded])"
   ]
  },
  {
   "cell_type": "code",
   "execution_count": 87,
   "metadata": {
    "collapsed": true
   },
   "outputs": [],
   "source": [
    "#Decoder\n",
    "decoder = Dense(original_dim, kernel_initializer='glorot_uniform', activation='sigmoid')\n",
    "expression_reco = decoder(z)"
   ]
  },
  {
   "cell_type": "code",
   "execution_count": 88,
   "metadata": {
    "collapsed": true
   },
   "outputs": [],
   "source": [
    "np.random.seed(123)"
   ]
  },
  {
   "cell_type": "code",
   "execution_count": 89,
   "metadata": {
    "collapsed": false
   },
   "outputs": [
    {
     "name": "stdout",
     "output_type": "stream",
     "text": [
      "__________________________________________________________________________________________________\n",
      "Layer (type)                    Output Shape         Param #     Connected to                     \n",
      "==================================================================================================\n",
      "input_1 (InputLayer)            (None, 1582)         0                                            \n",
      "__________________________________________________________________________________________________\n",
      "dropout_1 (Dropout)             (None, 1582)         0           input_1[0][0]                    \n",
      "__________________________________________________________________________________________________\n",
      "dropout_2 (Dropout)             (None, 1582)         0           input_1[0][0]                    \n",
      "__________________________________________________________________________________________________\n",
      "dense_1 (Dense)                 (None, 30)           47490       dropout_1[0][0]                  \n",
      "__________________________________________________________________________________________________\n",
      "dense_2 (Dense)                 (None, 30)           47490       dropout_2[0][0]                  \n",
      "__________________________________________________________________________________________________\n",
      "batch_normalization_1 (BatchNor (None, 30)           120         dense_1[0][0]                    \n",
      "__________________________________________________________________________________________________\n",
      "batch_normalization_2 (BatchNor (None, 30)           120         dense_2[0][0]                    \n",
      "__________________________________________________________________________________________________\n",
      "activation_1 (Activation)       (None, 30)           0           batch_normalization_1[0][0]      \n",
      "__________________________________________________________________________________________________\n",
      "activation_2 (Activation)       (None, 30)           0           batch_normalization_2[0][0]      \n",
      "__________________________________________________________________________________________________\n",
      "lambda_1 (Lambda)               (None, 30)           0           activation_1[0][0]               \n",
      "                                                                 activation_2[0][0]               \n",
      "__________________________________________________________________________________________________\n",
      "dense_3 (Dense)                 (None, 1582)         49042       lambda_1[0][0]                   \n",
      "==================================================================================================\n",
      "Total params: 144,262\n",
      "Trainable params: 144,142\n",
      "Non-trainable params: 120\n",
      "__________________________________________________________________________________________________\n",
      "None\n"
     ]
    }
   ],
   "source": [
    "adam = keras.optimizers.Adam(lr=learning_rate)\n",
    "\n",
    "#vae_layer = CustomVariationalLayer()([x, expression_reconstruct])\n",
    "#vae = Model(x, vae_layer)\n",
    "vae = Model(x, expression_reco)\n",
    "#RMS prop seems to be the most stable optimizer for this config\n",
    "vae.compile(optimizer=\"rmsprop\", loss=vae_loss)\n",
    "#vae.compile(optimizer=adam, loss=vae_loss)\n",
    "\n",
    "print vae.summary()"
   ]
  },
  {
   "cell_type": "code",
   "execution_count": 90,
   "metadata": {
    "collapsed": false
   },
   "outputs": [],
   "source": [
    "import time\n",
    "start = time.clock()\n",
    "data_split=0.2\n",
    "data_train, data_test = train_test_split(data_minmax, test_size=data_split)\n",
    "tbCallBack = keras.callbacks.TensorBoard(log_dir='./Graph_AN_Variational', histogram_freq=0, write_graph=True, write_images=True)\n",
    "earlystop = keras.callbacks.EarlyStopping(monitor='loss', min_delta=0.0001, patience=5, verbose=1, mode='auto')\n",
    "callbacks_list = [tbCallBack,earlystop]"
   ]
  },
  {
   "cell_type": "code",
   "execution_count": 91,
   "metadata": {
    "collapsed": false
   },
   "outputs": [
    {
     "name": "stdout",
     "output_type": "stream",
     "text": [
      "Train on 3200 samples, validate on 800 samples\n",
      "Epoch 1/200\n",
      "3200/3200 [==============================] - 2s 516us/step - loss: 905.5226 - val_loss: 721.6997\n",
      "Epoch 2/200\n",
      "3200/3200 [==============================] - 1s 371us/step - loss: 641.2310 - val_loss: 487.1631\n",
      "Epoch 3/200\n",
      "3200/3200 [==============================] - 1s 393us/step - loss: 498.3685 - val_loss: 425.6667\n",
      "Epoch 4/200\n",
      "3200/3200 [==============================] - 1s 347us/step - loss: 430.2307 - val_loss: 400.5543\n",
      "Epoch 5/200\n",
      "3200/3200 [==============================] - 1s 342us/step - loss: 400.6680 - val_loss: 379.5852\n",
      "Epoch 6/200\n",
      "3200/3200 [==============================] - 1s 358us/step - loss: 387.0305 - val_loss: 375.6052\n",
      "Epoch 7/200\n",
      "3200/3200 [==============================] - 1s 362us/step - loss: 381.3374 - val_loss: 371.9943\n",
      "Epoch 8/200\n",
      "3200/3200 [==============================] - 1s 363us/step - loss: 377.0938 - val_loss: 368.4578\n",
      "Epoch 9/200\n",
      "3200/3200 [==============================] - 1s 357us/step - loss: 374.1697 - val_loss: 369.5631\n",
      "Epoch 10/200\n",
      "3200/3200 [==============================] - 1s 386us/step - loss: 371.4282 - val_loss: 366.3962\n",
      "Epoch 11/200\n",
      "3200/3200 [==============================] - 1s 352us/step - loss: 370.6204 - val_loss: 366.2716\n",
      "Epoch 12/200\n",
      "3200/3200 [==============================] - 1s 363us/step - loss: 369.5314 - val_loss: 367.6964\n",
      "Epoch 13/200\n",
      "3200/3200 [==============================] - 1s 390us/step - loss: 369.8336 - val_loss: 368.9037\n",
      "Epoch 14/200\n",
      "3200/3200 [==============================] - 1s 376us/step - loss: 368.0570 - val_loss: 364.2106\n",
      "Epoch 15/200\n",
      "3200/3200 [==============================] - 1s 350us/step - loss: 367.3624 - val_loss: 363.9388\n",
      "Epoch 16/200\n",
      "3200/3200 [==============================] - 1s 377us/step - loss: 367.5469 - val_loss: 363.6421\n",
      "Epoch 17/200\n",
      "3200/3200 [==============================] - 1s 382us/step - loss: 366.9470 - val_loss: 364.2638\n",
      "Epoch 18/200\n",
      "3200/3200 [==============================] - 1s 351us/step - loss: 366.0144 - val_loss: 363.5682\n",
      "Epoch 19/200\n",
      "3200/3200 [==============================] - 1s 315us/step - loss: 367.6934 - val_loss: 364.9802\n",
      "Epoch 20/200\n",
      "3200/3200 [==============================] - 1s 352us/step - loss: 367.2209 - val_loss: 363.0999\n",
      "Epoch 21/200\n",
      "3200/3200 [==============================] - 1s 397us/step - loss: 366.0185 - val_loss: 363.1632\n",
      "Epoch 22/200\n",
      "3200/3200 [==============================] - 1s 377us/step - loss: 366.4960 - val_loss: 363.3873\n",
      "Epoch 23/200\n",
      "3200/3200 [==============================] - 1s 379us/step - loss: 365.6082 - val_loss: 361.8566\n",
      "Epoch 24/200\n",
      "3200/3200 [==============================] - 1s 383us/step - loss: 364.4840 - val_loss: 363.5958\n",
      "Epoch 25/200\n",
      "3200/3200 [==============================] - 1s 391us/step - loss: 364.1232 - val_loss: 361.5872\n",
      "Epoch 26/200\n",
      "3200/3200 [==============================] - 1s 389us/step - loss: 364.4357 - val_loss: 362.4852\n",
      "Epoch 27/200\n",
      "3200/3200 [==============================] - 1s 374us/step - loss: 364.1068 - val_loss: 362.0404\n",
      "Epoch 28/200\n",
      "3200/3200 [==============================] - 1s 395us/step - loss: 364.4709 - val_loss: 361.3356\n",
      "Epoch 29/200\n",
      "3200/3200 [==============================] - 1s 382us/step - loss: 364.9341 - val_loss: 361.8307\n",
      "Epoch 30/200\n",
      "3200/3200 [==============================] - 1s 407us/step - loss: 365.0818 - val_loss: 362.4316\n",
      "Epoch 31/200\n",
      "3200/3200 [==============================] - 1s 372us/step - loss: 363.0483 - val_loss: 361.6677\n",
      "Epoch 32/200\n",
      "3200/3200 [==============================] - 1s 355us/step - loss: 364.6910 - val_loss: 363.3393\n",
      "Epoch 33/200\n",
      "3200/3200 [==============================] - 1s 357us/step - loss: 364.6081 - val_loss: 361.1818\n",
      "Epoch 34/200\n",
      "3200/3200 [==============================] - 1s 383us/step - loss: 362.7627 - val_loss: 362.1849\n",
      "Epoch 35/200\n",
      "3200/3200 [==============================] - 1s 346us/step - loss: 363.8772 - val_loss: 360.7639\n",
      "Epoch 36/200\n",
      "3200/3200 [==============================] - 1s 370us/step - loss: 363.7965 - val_loss: 361.8741\n",
      "Epoch 37/200\n",
      "3200/3200 [==============================] - 1s 351us/step - loss: 364.1599 - val_loss: 361.2241\n",
      "Epoch 38/200\n",
      "3200/3200 [==============================] - 1s 381us/step - loss: 363.5339 - val_loss: 360.9705\n",
      "Epoch 39/200\n",
      "3200/3200 [==============================] - 1s 385us/step - loss: 362.6661 - val_loss: 361.5087\n",
      "Epoch 40/200\n",
      "3200/3200 [==============================] - 1s 373us/step - loss: 362.4815 - val_loss: 361.4166\n",
      "Epoch 41/200\n",
      "3200/3200 [==============================] - 1s 365us/step - loss: 362.9857 - val_loss: 361.4688\n",
      "Epoch 42/200\n",
      "3200/3200 [==============================] - 1s 366us/step - loss: 362.5566 - val_loss: 360.5797\n",
      "Epoch 43/200\n",
      "3200/3200 [==============================] - 1s 346us/step - loss: 361.9626 - val_loss: 361.5538\n",
      "Epoch 44/200\n",
      "3200/3200 [==============================] - 1s 368us/step - loss: 362.5567 - val_loss: 361.6855\n",
      "Epoch 45/200\n",
      "3200/3200 [==============================] - 1s 377us/step - loss: 363.4020 - val_loss: 361.2018\n",
      "Epoch 46/200\n",
      "3200/3200 [==============================] - 1s 355us/step - loss: 362.2106 - val_loss: 362.0237\n",
      "Epoch 47/200\n",
      "3200/3200 [==============================] - 1s 379us/step - loss: 362.4121 - val_loss: 360.6272\n",
      "Epoch 48/200\n",
      "3200/3200 [==============================] - 1s 368us/step - loss: 362.3142 - val_loss: 359.8666\n",
      "Epoch 00048: early stopping\n"
     ]
    }
   ],
   "source": [
    "hist1=vae.fit(data_train,data_train,\n",
    "        #shuffle=True,\n",
    "        epochs=epochs,\n",
    "        batch_size=batch_size,\n",
    "        validation_split=0.2,\n",
    "        callbacks=callbacks_list)"
   ]
  },
  {
   "cell_type": "code",
   "execution_count": 92,
   "metadata": {
    "collapsed": false
   },
   "outputs": [
    {
     "data": {
      "image/png": "[encoded data removed]",
      "text/plain": [
       "<Figure size 432x288 with 1 Axes>"
      ]
     },
     "metadata": {},
     "output_type": "display_data"
    }
   ],
   "source": [
    "#Visualize training performance\n",
    "history_df = pd.DataFrame(hist1.history)\n",
    "ax = history_df[1:].plot()\n",
    "ax.set_xlabel('Epochs')\n",
    "ax.set_ylabel('VAE Loss')\n",
    "fig = ax.get_figure()\n",
    "#plt.yscale('log')"
   ]
  },
  {
   "cell_type": "code",
   "execution_count": 93,
   "metadata": {
    "collapsed": false
   },
   "outputs": [
    {
     "name": "stdout",
     "output_type": "stream",
     "text": [
      "Time to train:  279.65\n"
     ]
    }
   ],
   "source": [
    "trained = time.clock()\n",
    "print \"Time to train: \",trained-start"
   ]
  },
  {
   "cell_type": "code",
   "execution_count": 94,
   "metadata": {
    "collapsed": true
   },
   "outputs": [],
   "source": [
    "# encoder, from inputs to latent space\n",
    "encoder = Model(x, z_mean_encoded)\n",
    "#encoder = Model(x, z)\n",
    "\n",
    "# generator, from latent space to reconstructed inputs\n",
    "decoder_input = Input(shape=(latent_dim,))\n",
    "decoded_latent=decoder(decoder_input)\n",
    "generator=Model(decoder_input,decoded_latent)"
   ]
  },
  {
   "cell_type": "code",
   "execution_count": 95,
   "metadata": {
    "collapsed": false
   },
   "outputs": [],
   "source": [
    "#data_predict=vae.predict(data_test,batch_size=batch_size)\n",
    "data_predict=vae.predict_on_batch(data_test)\n",
    "diffs=np.subtract(data_predict,data_test).flatten()\n"
   ]
  },
  {
   "cell_type": "code",
   "execution_count": 111,
   "metadata": {
    "collapsed": false
   },
   "outputs": [
    {
     "data": {
      "image/png": "[encoded data removed]",
      "text/plain": [
       "<Figure size 432x288 with 1 Axes>"
      ]
     },
     "metadata": {},
     "output_type": "display_data"
    },
    {
     "name": "stdout",
     "output_type": "stream",
     "text": [
      "0.0012491397291798832 0.09215273963004764\n"
     ]
    }
   ],
   "source": [
    "plt.hist(diffs, bins=500,normed=True)  # plt.hist passes it's arguments to np.histogram\n",
    "\n",
    "plt.title(\"Predicted phenotype minus real phenotype (normalized)\")\n",
    "plt.xlim(-0.25,0.25)\n",
    "plt.ylim(0.5,1000)\n",
    "plt.yscale('log')\n",
    "plt.show()\n",
    "print np.mean(diffs),np.std(diffs)"
   ]
  },
  {
   "cell_type": "code",
   "execution_count": 97,
   "metadata": {
    "collapsed": true
   },
   "outputs": [],
   "source": [
    "encoded_predict=encoder.predict(data_test)\n"
   ]
  },
  {
   "cell_type": "code",
   "execution_count": 100,
   "metadata": {
    "collapsed": false
   },
   "outputs": [],
   "source": [
    "tsne = manifold.TSNE(n_components=2, init='pca', random_state=0, perplexity=50,\n",
    "                     learning_rate=10, n_iter=1000)\n",
    "#tsne = manifold.TSNE(n_components=2, init='pca')\n",
    "\n",
    "tsne_out = tsne.fit_transform(encoded_predict)\n",
    "\n"
   ]
  },
  {
   "cell_type": "code",
   "execution_count": 101,
   "metadata": {
    "collapsed": false
   },
   "outputs": [
    {
     "data": {
      "image/png": "[encoded data removed]",
      "text/plain": [
       "<Figure size 432x288 with 1 Axes>"
      ]
     },
     "metadata": {},
     "output_type": "display_data"
    }
   ],
   "source": [
    "plt.scatter(tsne_out[:,0],tsne_out[:,1])\n",
    "\n",
    "plt.xlabel('Dimension 1')\n",
    "plt.ylabel('Dimension 2')\n",
    "plt.title('Autoencoder Quantity and Categorical Features tSNE with two components')\n",
    "plt.show()\n"
   ]
  },
  {
   "cell_type": "code",
   "execution_count": 99,
   "metadata": {
    "collapsed": false
   },
   "outputs": [
    {
     "data": {
      "image/png": "[encoded data removed]",
      "text/plain": [
       "<Figure size 432x288 with 1 Axes>"
      ]
     },
     "metadata": {},
     "output_type": "display_data"
    }
   ],
   "source": [
    "from sklearn import decomposition\n",
    "\n",
    "pca = decomposition.PCA(n_components=2)\n",
    "pca_out=pca.fit_transform(encoded_predict)\n",
    "\n",
    "plt.scatter(pca_out[:,0],pca_out[:,1])\n",
    "\n",
    "plt.xlabel('Principal Component 1')\n",
    "plt.ylabel('Principal Component 2')\n",
    "plt.title('Autoencoder Quantity and Categorical Features')\n",
    "plt.show()"
   ]
  },
  {
   "cell_type": "code",
   "execution_count": null,
   "metadata": {
    "collapsed": true
   },
   "outputs": [],
   "source": []
  }
 ],
 "metadata": {
  "anaconda-cloud": {},
  "kernelspec": {
   "display_name": "Python [conda env:anaconda-default]",
   "language": "python",
   "name": "conda-env-anaconda-default-py"
  },
  "language_info": {
   "codemirror_mode": {
    "name": "ipython",
    "version": 2
   },
   "file_extension": ".py",
   "mimetype": "text/x-python",
   "name": "python",
   "nbconvert_exporter": "python",
   "pygments_lexer": "ipython2",
   "version": "2.7.14"
  }
 },
 "nbformat": 4,
 "nbformat_minor": 2
}
