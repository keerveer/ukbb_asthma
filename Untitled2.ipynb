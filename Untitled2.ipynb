{
 "cells": [
  {
   "cell_type": "code",
   "execution_count": 1,
   "metadata": {
    "collapsed": true
   },
   "outputs": [],
   "source": [
    "import pandas as pd\n"
   ]
  },
  {
   "cell_type": "code",
   "execution_count": 3,
   "metadata": {
    "collapsed": false
   },
   "outputs": [],
   "source": [
    "df=pd.read_csv('ukbb_asthma_cohort_annotation_new.csv')"
   ]
  },
  {
   "cell_type": "code",
   "execution_count": 4,
   "metadata": {
    "collapsed": false
   },
   "outputs": [
    {
     "data": {
      "text/html": [
       "<div>\n",
       "<table border=\"1\" class=\"dataframe\">\n",
       "  <thead>\n",
       "    <tr style=\"text-align: right;\">\n",
       "      <th></th>\n",
       "      <th>Unnamed: 0</th>\n",
       "      <th>IID</th>\n",
       "      <th>sex</th>\n",
       "      <th>PC1</th>\n",
       "      <th>PC2</th>\n",
       "      <th>PC3</th>\n",
       "      <th>PC4</th>\n",
       "      <th>PC5</th>\n",
       "      <th>PC6</th>\n",
       "      <th>PC7</th>\n",
       "      <th>PC8</th>\n",
       "      <th>PC9</th>\n",
       "      <th>PC10</th>\n",
       "      <th>age</th>\n",
       "      <th>Asthma_CohortA</th>\n",
       "      <th>Asthma_CohortB</th>\n",
       "      <th>Asthma_CohortAnotB</th>\n",
       "    </tr>\n",
       "  </thead>\n",
       "  <tbody>\n",
       "    <tr>\n",
       "      <th>0</th>\n",
       "      <td>0</td>\n",
       "      <td>1000149</td>\n",
       "      <td>2</td>\n",
       "      <td>-0.0012</td>\n",
       "      <td>0.0002</td>\n",
       "      <td>-0.0003</td>\n",
       "      <td>-0.0002</td>\n",
       "      <td>-0.0005</td>\n",
       "      <td>-0.0009</td>\n",
       "      <td>-0.0006</td>\n",
       "      <td>0.0024</td>\n",
       "      <td>0.0013</td>\n",
       "      <td>-0.0004</td>\n",
       "      <td>45</td>\n",
       "      <td>1</td>\n",
       "      <td>0</td>\n",
       "      <td>1</td>\n",
       "    </tr>\n",
       "    <tr>\n",
       "      <th>1</th>\n",
       "      <td>1</td>\n",
       "      <td>1000306</td>\n",
       "      <td>2</td>\n",
       "      <td>-0.0011</td>\n",
       "      <td>-0.0025</td>\n",
       "      <td>0.0006</td>\n",
       "      <td>-0.0021</td>\n",
       "      <td>0.0000</td>\n",
       "      <td>0.0021</td>\n",
       "      <td>-0.0013</td>\n",
       "      <td>-0.0002</td>\n",
       "      <td>-0.0022</td>\n",
       "      <td>0.0029</td>\n",
       "      <td>69</td>\n",
       "      <td>1</td>\n",
       "      <td>0</td>\n",
       "      <td>1</td>\n",
       "    </tr>\n",
       "    <tr>\n",
       "      <th>2</th>\n",
       "      <td>2</td>\n",
       "      <td>1000418</td>\n",
       "      <td>1</td>\n",
       "      <td>-0.0001</td>\n",
       "      <td>-0.0004</td>\n",
       "      <td>0.0011</td>\n",
       "      <td>0.0002</td>\n",
       "      <td>-0.0003</td>\n",
       "      <td>-0.0003</td>\n",
       "      <td>0.0016</td>\n",
       "      <td>0.0022</td>\n",
       "      <td>0.0005</td>\n",
       "      <td>0.0001</td>\n",
       "      <td>67</td>\n",
       "      <td>1</td>\n",
       "      <td>0</td>\n",
       "      <td>1</td>\n",
       "    </tr>\n",
       "    <tr>\n",
       "      <th>3</th>\n",
       "      <td>3</td>\n",
       "      <td>1000607</td>\n",
       "      <td>2</td>\n",
       "      <td>-0.0001</td>\n",
       "      <td>0.0007</td>\n",
       "      <td>0.0003</td>\n",
       "      <td>-0.0007</td>\n",
       "      <td>0.0002</td>\n",
       "      <td>0.0002</td>\n",
       "      <td>0.0000</td>\n",
       "      <td>0.0011</td>\n",
       "      <td>-0.0003</td>\n",
       "      <td>-0.0010</td>\n",
       "      <td>47</td>\n",
       "      <td>1</td>\n",
       "      <td>0</td>\n",
       "      <td>1</td>\n",
       "    </tr>\n",
       "    <tr>\n",
       "      <th>4</th>\n",
       "      <td>4</td>\n",
       "      <td>1000984</td>\n",
       "      <td>2</td>\n",
       "      <td>-0.0009</td>\n",
       "      <td>-0.0012</td>\n",
       "      <td>0.0004</td>\n",
       "      <td>-0.0009</td>\n",
       "      <td>0.0011</td>\n",
       "      <td>0.0005</td>\n",
       "      <td>-0.0021</td>\n",
       "      <td>-0.0001</td>\n",
       "      <td>-0.0007</td>\n",
       "      <td>-0.0003</td>\n",
       "      <td>67</td>\n",
       "      <td>1</td>\n",
       "      <td>0</td>\n",
       "      <td>1</td>\n",
       "    </tr>\n",
       "  </tbody>\n",
       "</table>\n",
       "</div>"
      ],
      "text/plain": [
       "   Unnamed: 0      IID  sex     PC1     PC2     PC3     PC4     PC5     PC6  \\\n",
       "0           0  1000149    2 -0.0012  0.0002 -0.0003 -0.0002 -0.0005 -0.0009   \n",
       "1           1  1000306    2 -0.0011 -0.0025  0.0006 -0.0021  0.0000  0.0021   \n",
       "2           2  1000418    1 -0.0001 -0.0004  0.0011  0.0002 -0.0003 -0.0003   \n",
       "3           3  1000607    2 -0.0001  0.0007  0.0003 -0.0007  0.0002  0.0002   \n",
       "4           4  1000984    2 -0.0009 -0.0012  0.0004 -0.0009  0.0011  0.0005   \n",
       "\n",
       "      PC7     PC8     PC9    PC10  age  Asthma_CohortA  Asthma_CohortB  \\\n",
       "0 -0.0006  0.0024  0.0013 -0.0004   45               1               0   \n",
       "1 -0.0013 -0.0002 -0.0022  0.0029   69               1               0   \n",
       "2  0.0016  0.0022  0.0005  0.0001   67               1               0   \n",
       "3  0.0000  0.0011 -0.0003 -0.0010   47               1               0   \n",
       "4 -0.0021 -0.0001 -0.0007 -0.0003   67               1               0   \n",
       "\n",
       "   Asthma_CohortAnotB  \n",
       "0                   1  \n",
       "1                   1  \n",
       "2                   1  \n",
       "3                   1  \n",
       "4                   1  "
      ]
     },
     "execution_count": 4,
     "metadata": {},
     "output_type": "execute_result"
    }
   ],
   "source": [
    "df.head()\n"
   ]
  },
  {
   "cell_type": "code",
   "execution_count": 7,
   "metadata": {
    "collapsed": false
   },
   "outputs": [
    {
     "data": {
      "text/plain": [
       "645"
      ]
     },
     "execution_count": 7,
     "metadata": {},
     "output_type": "execute_result"
    }
   ],
   "source": [
    "df['Asthma_CohortB'].sum()"
   ]
  },
  {
   "cell_type": "code",
   "execution_count": null,
   "metadata": {
    "collapsed": true
   },
   "outputs": [],
   "source": []
  }
 ],
 "metadata": {
  "anaconda-cloud": {},
  "kernelspec": {
   "display_name": "Python 2 (Jupyter Only)",
   "language": "python",
   "name": "python2"
  },
  "language_info": {
   "codemirror_mode": {
    "name": "ipython",
    "version": 2
   },
   "file_extension": ".py",
   "mimetype": "text/x-python",
   "name": "python",
   "nbconvert_exporter": "python",
   "pygments_lexer": "ipython2",
   "version": "2.7.5"
  }
 },
 "nbformat": 4,
 "nbformat_minor": 2
}
